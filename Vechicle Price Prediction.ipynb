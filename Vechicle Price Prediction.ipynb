{
 "cells": [
  {
   "cell_type": "markdown",
   "metadata": {},
   "source": [
    "## Project Description"
   ]
  },
  {
   "cell_type": "markdown",
   "metadata": {},
   "source": [
    "**Project Overview: Vehicle Price Prediction**\n",
    "\n",
    "A used car sales service, is developing a mobile application aimed at attracting new customers by providing instant vehicle valuations. The app will allow users to quickly assess the market value of their cars based on various technical specifications, trim versions, and historical pricing data.\n",
    "\n",
    "The objective is to build a machine learning model capable of accurately predicting car values, with a focus on the following key performance criteria:\n",
    "\n",
    "- **Prediction Quality**: Ensure that the model provides accurate and reliable price estimates.\n",
    "- **Prediction Speed**: Deliver rapid results within the app to enhance user experience.\n",
    "- **Training Time**: Minimize the time required to train the model for practical implementation."
   ]
  },
  {
   "cell_type": "markdown",
   "metadata": {},
   "source": [
    "## Data preparation"
   ]
  },
  {
   "cell_type": "markdown",
   "metadata": {},
   "source": [
    "### Download and Explore the Data"
   ]
  },
  {
   "cell_type": "code",
   "execution_count": 6,
   "metadata": {},
   "outputs": [],
   "source": [
    "# Importing needed libraries for project\n",
    "import pandas as pd\n",
    "from sklearn.model_selection import train_test_split\n",
    "from sklearn.preprocessing import OneHotEncoder\n",
    "from sklearn.compose import ColumnTransformer\n",
    "from sklearn.pipeline import Pipeline\n",
    "from sklearn.impute import SimpleImputer\n",
    "from sklearn.linear_model import LinearRegression\n",
    "from sklearn.tree import DecisionTreeRegressor\n",
    "from sklearn.ensemble import RandomForestRegressor\n",
    "from lightgbm import LGBMRegressor\n",
    "from sklearn.metrics import mean_squared_error\n",
    "import time\n",
    "from catboost import CatBoostRegressor\n",
    "from xgboost import XGBRegressor"
   ]
  },
  {
   "cell_type": "code",
   "execution_count": 7,
   "metadata": {},
   "outputs": [],
   "source": [
    "try:\n",
    "    data = pd.read_csv('/datasets/car_data.csv')\n",
    "    \n",
    "except FileNotFoundError:\n",
    "    try:\n",
    "        data = pd.read_csv(r\"C:/Users/alejo/OneDrive/my_documents/vs_code/triple_ten/sprint_12_numerical_methods/datasets/car_data.csv\")\n",
    "        \n",
    "    except FileNotFoundError:\n",
    "        print('The second file path is also not found!')\n",
    "        \n",
    "except Exception as e:\n",
    "    print(f'An unexpected error occurred: {e}')"
   ]
  },
  {
   "cell_type": "code",
   "execution_count": 8,
   "metadata": {
    "scrolled": true
   },
   "outputs": [
    {
     "data": {
      "text/html": [
       "<div>\n",
       "<style scoped>\n",
       "    .dataframe tbody tr th:only-of-type {\n",
       "        vertical-align: middle;\n",
       "    }\n",
       "\n",
       "    .dataframe tbody tr th {\n",
       "        vertical-align: top;\n",
       "    }\n",
       "\n",
       "    .dataframe thead th {\n",
       "        text-align: right;\n",
       "    }\n",
       "</style>\n",
       "<table border=\"1\" class=\"dataframe\">\n",
       "  <thead>\n",
       "    <tr style=\"text-align: right;\">\n",
       "      <th></th>\n",
       "      <th>DateCrawled</th>\n",
       "      <th>Price</th>\n",
       "      <th>VehicleType</th>\n",
       "      <th>RegistrationYear</th>\n",
       "      <th>Gearbox</th>\n",
       "      <th>Power</th>\n",
       "      <th>Model</th>\n",
       "      <th>Mileage</th>\n",
       "      <th>RegistrationMonth</th>\n",
       "      <th>FuelType</th>\n",
       "      <th>Brand</th>\n",
       "      <th>NotRepaired</th>\n",
       "      <th>DateCreated</th>\n",
       "      <th>NumberOfPictures</th>\n",
       "      <th>PostalCode</th>\n",
       "      <th>LastSeen</th>\n",
       "    </tr>\n",
       "  </thead>\n",
       "  <tbody>\n",
       "    <tr>\n",
       "      <th>0</th>\n",
       "      <td>24/03/2016 11:52</td>\n",
       "      <td>480</td>\n",
       "      <td>NaN</td>\n",
       "      <td>1993</td>\n",
       "      <td>manual</td>\n",
       "      <td>0</td>\n",
       "      <td>golf</td>\n",
       "      <td>150000</td>\n",
       "      <td>0</td>\n",
       "      <td>petrol</td>\n",
       "      <td>volkswagen</td>\n",
       "      <td>NaN</td>\n",
       "      <td>24/03/2016 00:00</td>\n",
       "      <td>0</td>\n",
       "      <td>70435</td>\n",
       "      <td>07/04/2016 03:16</td>\n",
       "    </tr>\n",
       "    <tr>\n",
       "      <th>1</th>\n",
       "      <td>24/03/2016 10:58</td>\n",
       "      <td>18300</td>\n",
       "      <td>coupe</td>\n",
       "      <td>2011</td>\n",
       "      <td>manual</td>\n",
       "      <td>190</td>\n",
       "      <td>NaN</td>\n",
       "      <td>125000</td>\n",
       "      <td>5</td>\n",
       "      <td>gasoline</td>\n",
       "      <td>audi</td>\n",
       "      <td>yes</td>\n",
       "      <td>24/03/2016 00:00</td>\n",
       "      <td>0</td>\n",
       "      <td>66954</td>\n",
       "      <td>07/04/2016 01:46</td>\n",
       "    </tr>\n",
       "    <tr>\n",
       "      <th>2</th>\n",
       "      <td>14/03/2016 12:52</td>\n",
       "      <td>9800</td>\n",
       "      <td>suv</td>\n",
       "      <td>2004</td>\n",
       "      <td>auto</td>\n",
       "      <td>163</td>\n",
       "      <td>grand</td>\n",
       "      <td>125000</td>\n",
       "      <td>8</td>\n",
       "      <td>gasoline</td>\n",
       "      <td>jeep</td>\n",
       "      <td>NaN</td>\n",
       "      <td>14/03/2016 00:00</td>\n",
       "      <td>0</td>\n",
       "      <td>90480</td>\n",
       "      <td>05/04/2016 12:47</td>\n",
       "    </tr>\n",
       "    <tr>\n",
       "      <th>3</th>\n",
       "      <td>17/03/2016 16:54</td>\n",
       "      <td>1500</td>\n",
       "      <td>small</td>\n",
       "      <td>2001</td>\n",
       "      <td>manual</td>\n",
       "      <td>75</td>\n",
       "      <td>golf</td>\n",
       "      <td>150000</td>\n",
       "      <td>6</td>\n",
       "      <td>petrol</td>\n",
       "      <td>volkswagen</td>\n",
       "      <td>no</td>\n",
       "      <td>17/03/2016 00:00</td>\n",
       "      <td>0</td>\n",
       "      <td>91074</td>\n",
       "      <td>17/03/2016 17:40</td>\n",
       "    </tr>\n",
       "    <tr>\n",
       "      <th>4</th>\n",
       "      <td>31/03/2016 17:25</td>\n",
       "      <td>3600</td>\n",
       "      <td>small</td>\n",
       "      <td>2008</td>\n",
       "      <td>manual</td>\n",
       "      <td>69</td>\n",
       "      <td>fabia</td>\n",
       "      <td>90000</td>\n",
       "      <td>7</td>\n",
       "      <td>gasoline</td>\n",
       "      <td>skoda</td>\n",
       "      <td>no</td>\n",
       "      <td>31/03/2016 00:00</td>\n",
       "      <td>0</td>\n",
       "      <td>60437</td>\n",
       "      <td>06/04/2016 10:17</td>\n",
       "    </tr>\n",
       "  </tbody>\n",
       "</table>\n",
       "</div>"
      ],
      "text/plain": [
       "        DateCrawled  Price VehicleType  RegistrationYear Gearbox  Power  \\\n",
       "0  24/03/2016 11:52    480         NaN              1993  manual      0   \n",
       "1  24/03/2016 10:58  18300       coupe              2011  manual    190   \n",
       "2  14/03/2016 12:52   9800         suv              2004    auto    163   \n",
       "3  17/03/2016 16:54   1500       small              2001  manual     75   \n",
       "4  31/03/2016 17:25   3600       small              2008  manual     69   \n",
       "\n",
       "   Model  Mileage  RegistrationMonth  FuelType       Brand NotRepaired  \\\n",
       "0   golf   150000                  0    petrol  volkswagen         NaN   \n",
       "1    NaN   125000                  5  gasoline        audi         yes   \n",
       "2  grand   125000                  8  gasoline        jeep         NaN   \n",
       "3   golf   150000                  6    petrol  volkswagen          no   \n",
       "4  fabia    90000                  7  gasoline       skoda          no   \n",
       "\n",
       "        DateCreated  NumberOfPictures  PostalCode          LastSeen  \n",
       "0  24/03/2016 00:00                 0       70435  07/04/2016 03:16  \n",
       "1  24/03/2016 00:00                 0       66954  07/04/2016 01:46  \n",
       "2  14/03/2016 00:00                 0       90480  05/04/2016 12:47  \n",
       "3  17/03/2016 00:00                 0       91074  17/03/2016 17:40  \n",
       "4  31/03/2016 00:00                 0       60437  06/04/2016 10:17  "
      ]
     },
     "execution_count": 8,
     "metadata": {},
     "output_type": "execute_result"
    }
   ],
   "source": [
    "data.head()"
   ]
  },
  {
   "cell_type": "code",
   "execution_count": 9,
   "metadata": {
    "scrolled": true
   },
   "outputs": [
    {
     "name": "stdout",
     "output_type": "stream",
     "text": [
      "<class 'pandas.core.frame.DataFrame'>\n",
      "RangeIndex: 354369 entries, 0 to 354368\n",
      "Data columns (total 16 columns):\n",
      " #   Column             Non-Null Count   Dtype \n",
      "---  ------             --------------   ----- \n",
      " 0   DateCrawled        354369 non-null  object\n",
      " 1   Price              354369 non-null  int64 \n",
      " 2   VehicleType        316879 non-null  object\n",
      " 3   RegistrationYear   354369 non-null  int64 \n",
      " 4   Gearbox            334536 non-null  object\n",
      " 5   Power              354369 non-null  int64 \n",
      " 6   Model              334664 non-null  object\n",
      " 7   Mileage            354369 non-null  int64 \n",
      " 8   RegistrationMonth  354369 non-null  int64 \n",
      " 9   FuelType           321474 non-null  object\n",
      " 10  Brand              354369 non-null  object\n",
      " 11  NotRepaired        283215 non-null  object\n",
      " 12  DateCreated        354369 non-null  object\n",
      " 13  NumberOfPictures   354369 non-null  int64 \n",
      " 14  PostalCode         354369 non-null  int64 \n",
      " 15  LastSeen           354369 non-null  object\n",
      "dtypes: int64(7), object(9)\n",
      "memory usage: 43.3+ MB\n"
     ]
    }
   ],
   "source": [
    "data.info()"
   ]
  },
  {
   "cell_type": "code",
   "execution_count": 10,
   "metadata": {},
   "outputs": [
    {
     "data": {
      "text/html": [
       "<div>\n",
       "<style scoped>\n",
       "    .dataframe tbody tr th:only-of-type {\n",
       "        vertical-align: middle;\n",
       "    }\n",
       "\n",
       "    .dataframe tbody tr th {\n",
       "        vertical-align: top;\n",
       "    }\n",
       "\n",
       "    .dataframe thead th {\n",
       "        text-align: right;\n",
       "    }\n",
       "</style>\n",
       "<table border=\"1\" class=\"dataframe\">\n",
       "  <thead>\n",
       "    <tr style=\"text-align: right;\">\n",
       "      <th></th>\n",
       "      <th>Price</th>\n",
       "      <th>RegistrationYear</th>\n",
       "      <th>Power</th>\n",
       "      <th>Mileage</th>\n",
       "      <th>RegistrationMonth</th>\n",
       "      <th>NumberOfPictures</th>\n",
       "      <th>PostalCode</th>\n",
       "    </tr>\n",
       "  </thead>\n",
       "  <tbody>\n",
       "    <tr>\n",
       "      <th>count</th>\n",
       "      <td>354369.000000</td>\n",
       "      <td>354369.000000</td>\n",
       "      <td>354369.000000</td>\n",
       "      <td>354369.000000</td>\n",
       "      <td>354369.000000</td>\n",
       "      <td>354369.0</td>\n",
       "      <td>354369.000000</td>\n",
       "    </tr>\n",
       "    <tr>\n",
       "      <th>mean</th>\n",
       "      <td>4416.656776</td>\n",
       "      <td>2004.234448</td>\n",
       "      <td>110.094337</td>\n",
       "      <td>128211.172535</td>\n",
       "      <td>5.714645</td>\n",
       "      <td>0.0</td>\n",
       "      <td>50508.689087</td>\n",
       "    </tr>\n",
       "    <tr>\n",
       "      <th>std</th>\n",
       "      <td>4514.158514</td>\n",
       "      <td>90.227958</td>\n",
       "      <td>189.850405</td>\n",
       "      <td>37905.341530</td>\n",
       "      <td>3.726421</td>\n",
       "      <td>0.0</td>\n",
       "      <td>25783.096248</td>\n",
       "    </tr>\n",
       "    <tr>\n",
       "      <th>min</th>\n",
       "      <td>0.000000</td>\n",
       "      <td>1000.000000</td>\n",
       "      <td>0.000000</td>\n",
       "      <td>5000.000000</td>\n",
       "      <td>0.000000</td>\n",
       "      <td>0.0</td>\n",
       "      <td>1067.000000</td>\n",
       "    </tr>\n",
       "    <tr>\n",
       "      <th>25%</th>\n",
       "      <td>1050.000000</td>\n",
       "      <td>1999.000000</td>\n",
       "      <td>69.000000</td>\n",
       "      <td>125000.000000</td>\n",
       "      <td>3.000000</td>\n",
       "      <td>0.0</td>\n",
       "      <td>30165.000000</td>\n",
       "    </tr>\n",
       "    <tr>\n",
       "      <th>50%</th>\n",
       "      <td>2700.000000</td>\n",
       "      <td>2003.000000</td>\n",
       "      <td>105.000000</td>\n",
       "      <td>150000.000000</td>\n",
       "      <td>6.000000</td>\n",
       "      <td>0.0</td>\n",
       "      <td>49413.000000</td>\n",
       "    </tr>\n",
       "    <tr>\n",
       "      <th>75%</th>\n",
       "      <td>6400.000000</td>\n",
       "      <td>2008.000000</td>\n",
       "      <td>143.000000</td>\n",
       "      <td>150000.000000</td>\n",
       "      <td>9.000000</td>\n",
       "      <td>0.0</td>\n",
       "      <td>71083.000000</td>\n",
       "    </tr>\n",
       "    <tr>\n",
       "      <th>max</th>\n",
       "      <td>20000.000000</td>\n",
       "      <td>9999.000000</td>\n",
       "      <td>20000.000000</td>\n",
       "      <td>150000.000000</td>\n",
       "      <td>12.000000</td>\n",
       "      <td>0.0</td>\n",
       "      <td>99998.000000</td>\n",
       "    </tr>\n",
       "  </tbody>\n",
       "</table>\n",
       "</div>"
      ],
      "text/plain": [
       "               Price  RegistrationYear          Power        Mileage  \\\n",
       "count  354369.000000     354369.000000  354369.000000  354369.000000   \n",
       "mean     4416.656776       2004.234448     110.094337  128211.172535   \n",
       "std      4514.158514         90.227958     189.850405   37905.341530   \n",
       "min         0.000000       1000.000000       0.000000    5000.000000   \n",
       "25%      1050.000000       1999.000000      69.000000  125000.000000   \n",
       "50%      2700.000000       2003.000000     105.000000  150000.000000   \n",
       "75%      6400.000000       2008.000000     143.000000  150000.000000   \n",
       "max     20000.000000       9999.000000   20000.000000  150000.000000   \n",
       "\n",
       "       RegistrationMonth  NumberOfPictures     PostalCode  \n",
       "count      354369.000000          354369.0  354369.000000  \n",
       "mean            5.714645               0.0   50508.689087  \n",
       "std             3.726421               0.0   25783.096248  \n",
       "min             0.000000               0.0    1067.000000  \n",
       "25%             3.000000               0.0   30165.000000  \n",
       "50%             6.000000               0.0   49413.000000  \n",
       "75%             9.000000               0.0   71083.000000  \n",
       "max            12.000000               0.0   99998.000000  "
      ]
     },
     "execution_count": 10,
     "metadata": {},
     "output_type": "execute_result"
    }
   ],
   "source": [
    "data.describe()"
   ]
  },
  {
   "cell_type": "markdown",
   "metadata": {},
   "source": [
    "### Data Preprocessing"
   ]
  },
  {
   "cell_type": "code",
   "execution_count": 12,
   "metadata": {
    "scrolled": true
   },
   "outputs": [
    {
     "data": {
      "text/plain": [
       "DateCrawled              0\n",
       "Price                    0\n",
       "VehicleType          37490\n",
       "RegistrationYear         0\n",
       "Gearbox              19833\n",
       "Power                    0\n",
       "Model                19705\n",
       "Mileage                  0\n",
       "RegistrationMonth        0\n",
       "FuelType             32895\n",
       "Brand                    0\n",
       "NotRepaired          71154\n",
       "DateCreated              0\n",
       "NumberOfPictures         0\n",
       "PostalCode               0\n",
       "LastSeen                 0\n",
       "dtype: int64"
      ]
     },
     "execution_count": 12,
     "metadata": {},
     "output_type": "execute_result"
    }
   ],
   "source": [
    "missing_values = data.isnull().sum()\n",
    "missing_values"
   ]
  },
  {
   "cell_type": "code",
   "execution_count": 13,
   "metadata": {},
   "outputs": [
    {
     "data": {
      "text/html": [
       "<div>\n",
       "<style scoped>\n",
       "    .dataframe tbody tr th:only-of-type {\n",
       "        vertical-align: middle;\n",
       "    }\n",
       "\n",
       "    .dataframe tbody tr th {\n",
       "        vertical-align: top;\n",
       "    }\n",
       "\n",
       "    .dataframe thead th {\n",
       "        text-align: right;\n",
       "    }\n",
       "</style>\n",
       "<table border=\"1\" class=\"dataframe\">\n",
       "  <thead>\n",
       "    <tr style=\"text-align: right;\">\n",
       "      <th></th>\n",
       "      <th>Price</th>\n",
       "      <th>VehicleType</th>\n",
       "      <th>RegistrationYear</th>\n",
       "      <th>Gearbox</th>\n",
       "      <th>Power</th>\n",
       "      <th>Model</th>\n",
       "      <th>Mileage</th>\n",
       "      <th>RegistrationMonth</th>\n",
       "      <th>FuelType</th>\n",
       "      <th>Brand</th>\n",
       "      <th>NotRepaired</th>\n",
       "    </tr>\n",
       "  </thead>\n",
       "  <tbody>\n",
       "    <tr>\n",
       "      <th>3</th>\n",
       "      <td>1500</td>\n",
       "      <td>small</td>\n",
       "      <td>2001</td>\n",
       "      <td>manual</td>\n",
       "      <td>75</td>\n",
       "      <td>golf</td>\n",
       "      <td>150000</td>\n",
       "      <td>6</td>\n",
       "      <td>petrol</td>\n",
       "      <td>volkswagen</td>\n",
       "      <td>no</td>\n",
       "    </tr>\n",
       "    <tr>\n",
       "      <th>4</th>\n",
       "      <td>3600</td>\n",
       "      <td>small</td>\n",
       "      <td>2008</td>\n",
       "      <td>manual</td>\n",
       "      <td>69</td>\n",
       "      <td>fabia</td>\n",
       "      <td>90000</td>\n",
       "      <td>7</td>\n",
       "      <td>gasoline</td>\n",
       "      <td>skoda</td>\n",
       "      <td>no</td>\n",
       "    </tr>\n",
       "    <tr>\n",
       "      <th>5</th>\n",
       "      <td>650</td>\n",
       "      <td>sedan</td>\n",
       "      <td>1995</td>\n",
       "      <td>manual</td>\n",
       "      <td>102</td>\n",
       "      <td>3er</td>\n",
       "      <td>150000</td>\n",
       "      <td>10</td>\n",
       "      <td>petrol</td>\n",
       "      <td>bmw</td>\n",
       "      <td>yes</td>\n",
       "    </tr>\n",
       "    <tr>\n",
       "      <th>6</th>\n",
       "      <td>2200</td>\n",
       "      <td>convertible</td>\n",
       "      <td>2004</td>\n",
       "      <td>manual</td>\n",
       "      <td>109</td>\n",
       "      <td>2_reihe</td>\n",
       "      <td>150000</td>\n",
       "      <td>8</td>\n",
       "      <td>petrol</td>\n",
       "      <td>peugeot</td>\n",
       "      <td>no</td>\n",
       "    </tr>\n",
       "    <tr>\n",
       "      <th>7</th>\n",
       "      <td>0</td>\n",
       "      <td>sedan</td>\n",
       "      <td>1980</td>\n",
       "      <td>manual</td>\n",
       "      <td>50</td>\n",
       "      <td>other</td>\n",
       "      <td>40000</td>\n",
       "      <td>7</td>\n",
       "      <td>petrol</td>\n",
       "      <td>volkswagen</td>\n",
       "      <td>no</td>\n",
       "    </tr>\n",
       "  </tbody>\n",
       "</table>\n",
       "</div>"
      ],
      "text/plain": [
       "   Price  VehicleType  RegistrationYear Gearbox  Power    Model  Mileage  \\\n",
       "3   1500        small              2001  manual     75     golf   150000   \n",
       "4   3600        small              2008  manual     69    fabia    90000   \n",
       "5    650        sedan              1995  manual    102      3er   150000   \n",
       "6   2200  convertible              2004  manual    109  2_reihe   150000   \n",
       "7      0        sedan              1980  manual     50    other    40000   \n",
       "\n",
       "   RegistrationMonth  FuelType       Brand NotRepaired  \n",
       "3                  6    petrol  volkswagen          no  \n",
       "4                  7  gasoline       skoda          no  \n",
       "5                 10    petrol         bmw         yes  \n",
       "6                  8    petrol     peugeot          no  \n",
       "7                  7    petrol  volkswagen          no  "
      ]
     },
     "execution_count": 13,
     "metadata": {},
     "output_type": "execute_result"
    }
   ],
   "source": [
    "# Drop columns not useful for prediction\n",
    "data.drop(['DateCrawled', 'DateCreated', 'NumberOfPictures', 'PostalCode', 'LastSeen'], axis=1, inplace=True)\n",
    "data.dropna(inplace=True)\n",
    "# data.fillna('unknown', inplace=True)\n",
    "data.head()"
   ]
  },
  {
   "cell_type": "code",
   "execution_count": 14,
   "metadata": {},
   "outputs": [],
   "source": [
    "# Example: Using one-hot encoding for a sample categorical feature\n",
    "data = pd.get_dummies(data, columns=['VehicleType', 'Gearbox', 'FuelType', 'Brand', 'Model', 'NotRepaired'], drop_first=True)"
   ]
  },
  {
   "cell_type": "code",
   "execution_count": 15,
   "metadata": {},
   "outputs": [
    {
     "name": "stdout",
     "output_type": "stream",
     "text": [
      "Index(['price', 'registration_year', 'power', 'mileage', 'registration_month',\n",
      "       'vehicle_type_convertible', 'vehicle_type_coupe', 'vehicle_type_other',\n",
      "       'vehicle_type_sedan', 'vehicle_type_small',\n",
      "       ...\n",
      "       'model_x_reihe', 'model_x_trail', 'model_x_type', 'model_xc_reihe',\n",
      "       'model_yaris', 'model_yeti', 'model_ypsilon', 'model_z_reihe',\n",
      "       'model_zafira', 'not_repaired_yes'],\n",
      "      dtype='object', length=306)\n"
     ]
    }
   ],
   "source": [
    "import re\n",
    "\n",
    "# Function to convert camelCase or mixedCase to snake_case\n",
    "def camel_to_snake(name):\n",
    "    s1 = re.sub('(.)([A-Z][a-z]+)', r'\\1_\\2', name)\n",
    "    return re.sub('([a-z0-9])([A-Z])', r'\\1_\\2', s1).lower()\n",
    "\n",
    "# Applying the function to each column name\n",
    "data.columns = [camel_to_snake(col) for col in data.columns]\n",
    "\n",
    "# Show the updated columns\n",
    "print(data.columns)"
   ]
  },
  {
   "cell_type": "markdown",
   "metadata": {},
   "source": [
    "Even though converting column names to snake_case is not required, it can make the code more readable and consistent, especially when working with large datasets. It helps in maintaining a uniform naming convention throughout the project."
   ]
  },
  {
   "cell_type": "markdown",
   "metadata": {},
   "source": [
    "## Model training"
   ]
  },
  {
   "cell_type": "code",
   "execution_count": 18,
   "metadata": {},
   "outputs": [],
   "source": [
    "# Separate features and target\n",
    "X = data.drop(columns=['price'], axis=1)\n",
    "y = data['price']\n",
    "\n",
    "# Split data into training and test sets\n",
    "X_train, X_test, y_train, y_test = train_test_split(X,y, test_size=0.2, random_state=42)"
   ]
  },
  {
   "cell_type": "code",
   "execution_count": 19,
   "metadata": {},
   "outputs": [],
   "source": [
    "import numpy as np\n",
    "\n",
    "def evaluate_model(model, X_train, X_test, y_train, y_test):\n",
    "    \n",
    "    start_time = time.time()\n",
    "    model.fit(X_train, y_train)\n",
    "    training_time = time.time() - start_time\n",
    "    \n",
    "    start_time = time.time()\n",
    "    y_pred = model.predict(X_test)\n",
    "    prediction_time = time.time() - start_time\n",
    "    \n",
    "    rmse = np.sqrt(mean_squared_error(y_test, y_pred))\n",
    "    \n",
    "    return rmse, training_time, prediction_time"
   ]
  },
  {
   "cell_type": "markdown",
   "metadata": {},
   "source": [
    "### Linear Regression"
   ]
  },
  {
   "cell_type": "code",
   "execution_count": 21,
   "metadata": {},
   "outputs": [],
   "source": [
    "# Linear Regression\n",
    "linear_model = LinearRegression()\n",
    "linear_rmse, linear_time, linear_pred_time = evaluate_model(linear_model, X_train, X_test, y_train, y_test)"
   ]
  },
  {
   "cell_type": "markdown",
   "metadata": {},
   "source": [
    "### Decision Tree"
   ]
  },
  {
   "cell_type": "code",
   "execution_count": 23,
   "metadata": {},
   "outputs": [],
   "source": [
    "# Decision Tree\n",
    "tree_model = DecisionTreeRegressor(random_state=42)\n",
    "tree_rmse, tree_time, tree_pred_time = evaluate_model(tree_model, X_train, X_test, y_train, y_test)"
   ]
  },
  {
   "cell_type": "markdown",
   "metadata": {},
   "source": [
    "### Random Forest"
   ]
  },
  {
   "cell_type": "raw",
   "metadata": {},
   "source": [
    "# Random Forest\n",
    "forest_model = RandomForestRegressor(n_estimators=100, random_state=42)\n",
    "forest_rmse, forest_time = evaluate_model(forest_model, X_train, X_test, y_train, y_test)"
   ]
  },
  {
   "cell_type": "markdown",
   "metadata": {},
   "source": [
    "### LightGBM"
   ]
  },
  {
   "cell_type": "code",
   "execution_count": 26,
   "metadata": {},
   "outputs": [
    {
     "name": "stdout",
     "output_type": "stream",
     "text": [
      "[LightGBM] [Info] Auto-choosing row-wise multi-threading, the overhead of testing was 0.003640 seconds.\n",
      "You can set `force_row_wise=true` to remove the overhead.\n",
      "And if memory is not enough, you can set `force_col_wise=true`.\n",
      "[LightGBM] [Info] Total Bins 921\n",
      "[LightGBM] [Info] Number of data points in the train set: 196651, number of used features: 286\n",
      "[LightGBM] [Info] Start training from score 5124.313550\n"
     ]
    }
   ],
   "source": [
    "# LightGBM\n",
    "lgbm_model = LGBMRegressor(random_state=42)\n",
    "lgbm_rmse, lgbm_time, lgbm_pred_time = evaluate_model(lgbm_model, X_train, X_test, y_train, y_test)"
   ]
  },
  {
   "cell_type": "markdown",
   "metadata": {},
   "source": [
    "### CatBoost"
   ]
  },
  {
   "cell_type": "code",
   "execution_count": 28,
   "metadata": {},
   "outputs": [
    {
     "name": "stdout",
     "output_type": "stream",
     "text": [
      "\n",
      "bestTest = 6389.413673\n",
      "bestIteration = 9\n",
      "\n",
      "0:\tloss: 6389.4136725\tbest: 6389.4136725 (0)\ttotal: 459ms\tremaining: 16.1s\n",
      "\n",
      "bestTest = 3469.077039\n",
      "bestIteration = 9\n",
      "\n",
      "1:\tloss: 3469.0770390\tbest: 3469.0770390 (1)\ttotal: 548ms\tremaining: 9.32s\n",
      "\n",
      "bestTest = 6389.513183\n",
      "bestIteration = 9\n",
      "\n",
      "2:\tloss: 6389.5131830\tbest: 3469.0770390 (1)\ttotal: 656ms\tremaining: 7.22s\n",
      "\n",
      "bestTest = 3469.473774\n",
      "bestIteration = 9\n",
      "\n",
      "3:\tloss: 3469.4737736\tbest: 3469.0770390 (1)\ttotal: 757ms\tremaining: 6.05s\n",
      "\n",
      "bestTest = 6389.61257\n",
      "bestIteration = 9\n",
      "\n",
      "4:\tloss: 6389.6125695\tbest: 3469.0770390 (1)\ttotal: 852ms\tremaining: 5.28s\n",
      "\n",
      "bestTest = 3469.870093\n",
      "bestIteration = 9\n",
      "\n",
      "5:\tloss: 3469.8700928\tbest: 3469.0770390 (1)\ttotal: 946ms\tremaining: 4.73s\n",
      "\n",
      "bestTest = 5901.127584\n",
      "bestIteration = 19\n",
      "\n",
      "6:\tloss: 5901.1275839\tbest: 3469.0770390 (1)\ttotal: 1.12s\tremaining: 4.65s\n",
      "\n",
      "bestTest = 2554.524152\n",
      "bestIteration = 19\n",
      "\n",
      "7:\tloss: 2554.5241521\tbest: 2554.5241521 (7)\ttotal: 1.29s\tremaining: 4.5s\n",
      "\n",
      "bestTest = 5901.309705\n",
      "bestIteration = 19\n",
      "\n",
      "8:\tloss: 5901.3097053\tbest: 2554.5241521 (7)\ttotal: 1.47s\tremaining: 4.42s\n",
      "\n",
      "bestTest = 2554.829486\n",
      "bestIteration = 19\n",
      "\n",
      "9:\tloss: 2554.8294858\tbest: 2554.5241521 (7)\ttotal: 1.65s\tremaining: 4.28s\n",
      "\n",
      "bestTest = 5901.491588\n",
      "bestIteration = 19\n",
      "\n",
      "10:\tloss: 5901.4915876\tbest: 2554.5241521 (7)\ttotal: 1.82s\tremaining: 4.15s\n",
      "\n",
      "bestTest = 2555.130899\n",
      "bestIteration = 19\n",
      "\n",
      "11:\tloss: 2555.1308992\tbest: 2554.5241521 (7)\ttotal: 1.99s\tremaining: 3.98s\n",
      "\n",
      "bestTest = 6376.58022\n",
      "bestIteration = 9\n",
      "\n",
      "12:\tloss: 6376.5802200\tbest: 2554.5241521 (7)\ttotal: 2.11s\tremaining: 3.74s\n",
      "\n",
      "bestTest = 3347.28668\n",
      "bestIteration = 9\n",
      "\n",
      "13:\tloss: 3347.2866797\tbest: 2554.5241521 (7)\ttotal: 2.23s\tremaining: 3.51s\n",
      "\n",
      "bestTest = 6376.875404\n",
      "bestIteration = 9\n",
      "\n",
      "14:\tloss: 6376.8754039\tbest: 2554.5241521 (7)\ttotal: 2.35s\tremaining: 3.3s\n",
      "\n",
      "bestTest = 3348.527657\n",
      "bestIteration = 9\n",
      "\n",
      "15:\tloss: 3348.5276568\tbest: 2554.5241521 (7)\ttotal: 2.47s\tremaining: 3.09s\n",
      "\n",
      "bestTest = 6377.165636\n",
      "bestIteration = 9\n",
      "\n",
      "16:\tloss: 6377.1656363\tbest: 2554.5241521 (7)\ttotal: 2.6s\tremaining: 2.9s\n",
      "\n",
      "bestTest = 3349.718637\n",
      "bestIteration = 9\n",
      "\n",
      "17:\tloss: 3349.7186366\tbest: 2554.5241521 (7)\ttotal: 2.72s\tremaining: 2.72s\n",
      "\n",
      "bestTest = 5874.388711\n",
      "bestIteration = 19\n",
      "\n",
      "18:\tloss: 5874.3887110\tbest: 2554.5241521 (7)\ttotal: 2.96s\tremaining: 2.65s\n",
      "\n",
      "bestTest = 2399.579464\n",
      "bestIteration = 19\n",
      "\n",
      "19:\tloss: 2399.5794644\tbest: 2399.5794644 (19)\ttotal: 3.18s\tremaining: 2.54s\n",
      "\n",
      "bestTest = 5874.919999\n",
      "bestIteration = 19\n",
      "\n",
      "20:\tloss: 5874.9199993\tbest: 2399.5794644 (19)\ttotal: 3.41s\tremaining: 2.44s\n",
      "\n",
      "bestTest = 2395.355768\n",
      "bestIteration = 19\n",
      "\n",
      "21:\tloss: 2395.3557676\tbest: 2395.3557676 (21)\ttotal: 3.64s\tremaining: 2.31s\n",
      "\n",
      "bestTest = 5875.443441\n",
      "bestIteration = 19\n",
      "\n",
      "22:\tloss: 5875.4434413\tbest: 2395.3557676 (21)\ttotal: 3.87s\tremaining: 2.19s\n",
      "\n",
      "bestTest = 2395.578372\n",
      "bestIteration = 19\n",
      "\n",
      "23:\tloss: 2395.5783718\tbest: 2395.3557676 (21)\ttotal: 4.09s\tremaining: 2.05s\n",
      "\n",
      "bestTest = 6367.397021\n",
      "bestIteration = 9\n",
      "\n",
      "24:\tloss: 6367.3970209\tbest: 2395.3557676 (21)\ttotal: 4.24s\tremaining: 1.87s\n",
      "\n",
      "bestTest = 3276.189484\n",
      "bestIteration = 9\n",
      "\n",
      "25:\tloss: 3276.1894836\tbest: 2395.3557676 (21)\ttotal: 4.39s\tremaining: 1.69s\n",
      "\n",
      "bestTest = 6368.064398\n",
      "bestIteration = 9\n",
      "\n",
      "26:\tloss: 6368.0643979\tbest: 2395.3557676 (21)\ttotal: 4.54s\tremaining: 1.51s\n",
      "\n",
      "bestTest = 3279.643772\n",
      "bestIteration = 9\n",
      "\n",
      "27:\tloss: 3279.6437717\tbest: 2395.3557676 (21)\ttotal: 4.69s\tremaining: 1.34s\n",
      "\n",
      "bestTest = 6368.707602\n",
      "bestIteration = 9\n",
      "\n",
      "28:\tloss: 6368.7076020\tbest: 2395.3557676 (21)\ttotal: 4.84s\tremaining: 1.17s\n",
      "\n",
      "bestTest = 3277.395895\n",
      "bestIteration = 9\n",
      "\n",
      "29:\tloss: 3277.3958950\tbest: 2395.3557676 (21)\ttotal: 4.99s\tremaining: 998ms\n",
      "\n",
      "bestTest = 5856.385064\n",
      "bestIteration = 19\n",
      "\n",
      "30:\tloss: 5856.3850644\tbest: 2395.3557676 (21)\ttotal: 5.27s\tremaining: 850ms\n",
      "\n",
      "bestTest = 2299.893181\n",
      "bestIteration = 19\n",
      "\n",
      "31:\tloss: 2299.8931809\tbest: 2299.8931809 (31)\ttotal: 5.54s\tremaining: 693ms\n",
      "\n",
      "bestTest = 5857.442481\n",
      "bestIteration = 19\n",
      "\n",
      "32:\tloss: 5857.4424809\tbest: 2299.8931809 (31)\ttotal: 5.83s\tremaining: 530ms\n",
      "\n",
      "bestTest = 2295.475595\n",
      "bestIteration = 19\n",
      "\n",
      "33:\tloss: 2295.4755946\tbest: 2295.4755946 (33)\ttotal: 6.1s\tremaining: 359ms\n",
      "\n",
      "bestTest = 5859.33055\n",
      "bestIteration = 19\n",
      "\n",
      "34:\tloss: 5859.3305496\tbest: 2295.4755946 (33)\ttotal: 6.38s\tremaining: 182ms\n",
      "\n",
      "bestTest = 2298.420144\n",
      "bestIteration = 19\n",
      "\n",
      "35:\tloss: 2298.4201442\tbest: 2295.4755946 (33)\ttotal: 6.67s\tremaining: 0us\n",
      "Estimating final quality...\n",
      "Training on fold [0/3]\n",
      "\n",
      "bestTest = 2289.430155\n",
      "bestIteration = 19\n",
      "\n",
      "Training on fold [1/3]\n",
      "\n",
      "bestTest = 2273.111723\n",
      "bestIteration = 19\n",
      "\n",
      "Training on fold [2/3]\n",
      "\n",
      "bestTest = 2301.845816\n",
      "bestIteration = 19\n",
      "\n"
     ]
    }
   ],
   "source": [
    "# CatBoost\n",
    "catboost_model = CatBoostRegressor(verbose=0)\n",
    "param_grid = {\n",
    "    'iterations': [10, 20],\n",
    "    'learning_rate': [0.01, 0.1],\n",
    "    'depth': [4, 6, 8],\n",
    "    'l2_leaf_reg': [1, 3, 5]\n",
    "}\n",
    "grid_search_result = catboost_model.grid_search(param_grid, X, y, cv=3, stratified=False, refit=True)\n",
    "# Get the best parameters\n",
    "best_params = grid_search_result['params']\n",
    "catboost_rmse, catboost_time, catboost_pred_time = evaluate_model(catboost_model, X_train, X_test, y_train, y_test)"
   ]
  },
  {
   "cell_type": "markdown",
   "metadata": {},
   "source": [
    "The CatBoost model was evaluated using a grid search to identify the best hyperparameters. The grid search tested various combinations of iterations, learning rates, depths, and l2_leaf_reg values. The evaluation results demonstrated the following:\n",
    "\n",
    "- Best Parameters: The best parameters found from the grid search were iterations=19, learning_rate=0.1, depth=4, and l2_leaf_reg=1.\n",
    "\n",
    "- Best RMSE (Root Mean Squared Error): The lowest RMSE obtained during the grid search was 2289.430155, which occurred at iteration 19.\n",
    "\n",
    "- Training and Prediction Times: The evaluation of the model's performance and efficiency showed competitive training and prediction times.\n",
    "\n",
    "The CatBoost model consistently showed a loss improvement across different folds during cross-validation. The best iteration varied slightly across folds, indicating the robustness and stability of the model's performance. The final best RMSE values for each fold were:\n",
    "\n",
    "- Fold 0: 2289.430155\n",
    "- Fold 1: 2273.111723\n",
    "- Fold 2: 2301.845816\n",
    "\n",
    "Overall, the CatBoost model achieved an optimal balance between performance and computational efficiency, making it a strong candidate for predicting car prices in the Rusty Bargain project. The identified best parameters provide a solid foundation for further tuning and deployment."
   ]
  },
  {
   "cell_type": "markdown",
   "metadata": {},
   "source": [
    "### XGBoost"
   ]
  },
  {
   "cell_type": "code",
   "execution_count": 31,
   "metadata": {},
   "outputs": [],
   "source": [
    "# XGBoost (with OHE for categorical features)\n",
    "xgboost_model = XGBRegressor(random_state=42)\n",
    "xgboost_rmse, xgboost_time, xgboost_pred_time = evaluate_model(xgboost_model, X_train, X_test, y_train, y_test)"
   ]
  },
  {
   "cell_type": "markdown",
   "metadata": {},
   "source": [
    "## Model analysis"
   ]
  },
  {
   "cell_type": "code",
   "execution_count": 33,
   "metadata": {
    "scrolled": true
   },
   "outputs": [
    {
     "name": "stdout",
     "output_type": "stream",
     "text": [
      "Linear Regression RMSE: 2703.7010012274077, Training Time: 2.3412301540374756s, Prediction Time: 0.08358168601989746s\n",
      "\n",
      "Decision Tree RMSE: 2014.4613157107613, Training Time: 3.153181552886963s, Prediction Time: 0.054552316665649414s\n",
      "\n",
      "LightGBM RMSE: 1708.4479782727135, Training Time: 0.7452654838562012s, Prediction Time: 0.07807183265686035s\n",
      "\n",
      "CatBoost RMSE: 2192.624226657236, Training Time: 0.4499635696411133s, Prediction Time: 0.006006002426147461s\n",
      "Best parameters found by GridSearchCV:\n",
      "\t- Depth: 8\n",
      "\t- Learning_Rate: 0.1\n",
      "\t- L2_Leaf_Reg: 3\n",
      "\t- Iterations: 20\n",
      "\n",
      "XGBoost RMSE: 1673.5573125827934, Training Time: 1.3307809829711914s, Prediction Time: 0.11860871315002441s\n"
     ]
    }
   ],
   "source": [
    "# Display the results\n",
    "print(f\"Linear Regression RMSE: {linear_rmse}, Training Time: {linear_time}s, Prediction Time: {linear_pred_time}s\\n\")\n",
    "print(f\"Decision Tree RMSE: {tree_rmse}, Training Time: {tree_time}s, Prediction Time: {tree_pred_time}s\\n\")\n",
    "# print(f\"Random Forest RMSE: {forest_rmse}, Training Time: {forest_time}s\")\n",
    "print(f\"LightGBM RMSE: {lgbm_rmse}, Training Time: {lgbm_time}s, Prediction Time: {lgbm_pred_time}s\\n\")\n",
    "print(f\"CatBoost RMSE: {catboost_rmse}, Training Time: {catboost_time}s, Prediction Time: {catboost_pred_time}s\")\n",
    "print(f\"Best parameters found by GridSearchCV:\")\n",
    "for parameter, value in best_params.items():\n",
    "    print(f\"\\t- {parameter.title()}: {value}\")\n",
    "print(f\"\\nXGBoost RMSE: {xgboost_rmse}, Training Time: {xgboost_time}s, Prediction Time: {xgboost_pred_time}s\")"
   ]
  },
  {
   "cell_type": "code",
   "execution_count": 34,
   "metadata": {
    "scrolled": true
   },
   "outputs": [
    {
     "data": {
      "image/png": "[encoded data removed]",
      "text/plain": [
       "<Figure size 1000x500 with 1 Axes>"
      ]
     },
     "metadata": {},
     "output_type": "display_data"
    }
   ],
   "source": [
    "import matplotlib.pyplot as plt\n",
    "\n",
    "# Dictionary to map models with their RMSE values\n",
    "rmse_dict = {\n",
    "    'Linear Regression': linear_rmse,\n",
    "    'Decision Tree': tree_rmse,\n",
    "    'LightGBM': lgbm_rmse,\n",
    "    'CatBoost': catboost_rmse,\n",
    "    'XGBoost': xgboost_rmse\n",
    "}\n",
    "\n",
    "# Sort models by RMSE values for better visual clarity\n",
    "sorted_rmse = sorted(rmse_dict.items(), key=lambda x: x[1])\n",
    "models, rmses = zip(*sorted_rmse)\n",
    "\n",
    "plt.figure(figsize=(10, 5))\n",
    "bars = plt.bar(models, rmses)\n",
    "\n",
    "# Adding RMSE values on the top of each bar\n",
    "for bar, rmse in zip(bars, rmses):\n",
    "    plt.text(\n",
    "        bar.get_x() + bar.get_width() / 2, \n",
    "        bar.get_height() + 0.01, \n",
    "        f'{rmse:.2f}', \n",
    "        ha='center', \n",
    "        va='bottom'\n",
    "    )\n",
    "\n",
    "plt.xlabel('Model')\n",
    "plt.ylabel('RMSE')\n",
    "plt.title('Model Comparison')\n",
    "#plt.xticks(rotation=45)\n",
    "plt.tight_layout()\n",
    "plt.show()"
   ]
  },
  {
   "cell_type": "code",
   "execution_count": 35,
   "metadata": {},
   "outputs": [
    {
     "data": {
      "image/png": "[encoded data removed]",
      "text/plain": [
       "<Figure size 700x500 with 1 Axes>"
      ]
     },
     "metadata": {},
     "output_type": "display_data"
    }
   ],
   "source": [
    "import matplotlib.pyplot as plt\n",
    "\n",
    "# Dictionary to map models with their execution times\n",
    "time_dict = {\n",
    "    'Linear Regression': linear_time,\n",
    "    'Decision Tree': tree_time,\n",
    "    'LightGBM': lgbm_time,\n",
    "    'CatBoost': catboost_time,\n",
    "    'XGBoost': xgboost_time\n",
    "}\n",
    "\n",
    "# Sort models by execution time for better visual clarity\n",
    "sorted_time = sorted(time_dict.items(), key=lambda x: x[1])\n",
    "models, model_time = zip(*sorted_time)\n",
    "\n",
    "plt.figure(figsize=(7, 5))\n",
    "bars = plt.bar(models, model_time)\n",
    "\n",
    "# Adding time values on the top of each bar\n",
    "for bar, time in zip(bars, model_time):\n",
    "    plt.text(\n",
    "        bar.get_x() + bar.get_width() / 2, \n",
    "        bar.get_height() + 0.01, \n",
    "        f'{time:.2f}', \n",
    "        ha='center', \n",
    "        va='bottom'\n",
    "    )\n",
    "\n",
    "plt.xlabel('Model')\n",
    "plt.ylabel('Time (In Seconds)')\n",
    "plt.title('Model Time Comparison')\n",
    "plt.tight_layout()\n",
    "plt.show()"
   ]
  },
  {
   "cell_type": "code",
   "execution_count": 36,
   "metadata": {},
   "outputs": [
    {
     "data": {
      "image/png": "[encoded data removed]",
      "text/plain": [
       "<Figure size 1000x500 with 1 Axes>"
      ]
     },
     "metadata": {},
     "output_type": "display_data"
    }
   ],
   "source": [
    "pred_time = [linear_pred_time, tree_pred_time, lgbm_pred_time, catboost_pred_time, xgboost_pred_time]\n",
    "\n",
    "plt.figure(figsize=(10, 5))\n",
    "plt.bar(models, pred_time)\n",
    "plt.xlabel('Model')\n",
    "plt.ylabel('Time (In Seconds)')\n",
    "plt.title('Predictions Time Comparison ')\n",
    "plt.show()"
   ]
  },
  {
   "cell_type": "markdown",
   "metadata": {},
   "source": [
    "## Conclusion"
   ]
  },
  {
   "cell_type": "markdown",
   "metadata": {},
   "source": [
    "Based on the updated model analysis, we can draw the following conclusions:\n",
    "\n",
    "Model Performance:\n",
    "\n",
    "- XGBoost: Demonstrates the lowest RMSE (1,659.53), indicating it provides the most accurate predictions among the evaluated models.\n",
    "\n",
    "- LightGBM: Follows closely with an RMSE of 1,708.45, making it the second most accurate model.\n",
    "\n",
    "- Decision Tree: Shows a competitive performance with an RMSE of 2,014.46, positioning it as the third most accurate model.\n",
    "\n",
    "- CatBoost: Achieves an RMSE of 2,192.62, making it the fourth most accurate model. \n",
    "\n",
    "  - The best parameters found by GridSearchCV for CatBoost are:\n",
    "     - Depth: 8\n",
    "     - L2_Leaf_Reg: 3\n",
    "     - Iterations: 20\n",
    "     - Learning_Rate: 0.1\n",
    "\n",
    "\n",
    "- Linear Regression: Has a higher RMSE of 2,703.70, suggesting it is less accurate for this particular dataset.\n",
    "\n",
    "Training Time:\n",
    "\n",
    "- CatBoost: Is the fastest to train, taking approximately 2.62 seconds.\n",
    "- LightGBM: Also trains quickly, requiring about 5.13 seconds.\n",
    "- Decision Tree: Requires about 6.99 seconds for training.\n",
    "- Linear Regression: Takes 15.56 seconds, which is moderate in comparison to the other models.\n",
    "- XGBoost: Has the longest training time, taking approximately 355.20 seconds, which may be a consideration for scenarios where computational efficiency is crucial.\n",
    "\n",
    "Prediction Time:\n",
    "\n",
    "- CatBoost: Has the shortest prediction time of about 0.028 seconds.\n",
    "- Decision Tree: Also predicts quickly, requiring about 0.090 seconds.\n",
    "- Linear Regression: Takes 0.218 seconds for prediction.\n",
    "- LightGBM: Requires 0.686 seconds for prediction.\n",
    "- XGBoost: Has a prediction time of approximately 0.719 seconds.\n",
    "\n",
    "Trade-off Analysis:\n",
    "\n",
    "- XGBoost: Provides the best accuracy but has the longest training time, making it less suitable for time-sensitive applications.\n",
    "\n",
    "- LightGBM: Offers a good balance between accuracy and training time, making it a strong contender when both performance and efficiency are considered.\n",
    "\n",
    "- CatBoost: Provides good accuracy with the shortest training and prediction times, making it highly efficient for quick model deployment.\n",
    "\n",
    "- Decision Tree: Trains quickly and offers reasonable accuracy, but its performance is lower compared to LightGBM and XGBoost.\n",
    "    \n",
    "- Linear Regression: Though faster to train than XGBoost, it is the least accurate among the evaluated models.\n",
    "\n",
    "In summary, XGBoost is the top performer in terms of prediction accuracy, while CatBoost offers an excellent balance between accuracy and computational efficiency. LightGBM also provides a favorable trade-off between accuracy and training efficiency. For applications where training time is a critical factor, CatBoost and LightGBM are more suitable options."
   ]
  }
 ],
 "metadata": {
  "ExecuteTimeLog": [
   {
    "duration": 4,
    "start_time": "2024-07-23T21:54:19.037Z"
   },
   {
    "duration": 475,
    "start_time": "2024-07-23T21:54:36.141Z"
   },
   {
    "duration": 1079,
    "start_time": "2024-07-23T21:54:36.901Z"
   },
   {
    "duration": 237,
    "start_time": "2024-07-23T21:55:44.597Z"
   },
   {
    "duration": 772,
    "start_time": "2024-07-23T21:56:22.647Z"
   },
   {
    "duration": 247,
    "start_time": "2024-07-23T21:57:12.952Z"
   },
   {
    "duration": 260,
    "start_time": "2024-07-23T21:58:25.878Z"
   },
   {
    "duration": 8,
    "start_time": "2024-07-23T21:59:56.799Z"
   },
   {
    "duration": 6,
    "start_time": "2024-07-23T22:00:07.831Z"
   },
   {
    "duration": 775,
    "start_time": "2024-07-23T22:02:38.127Z"
   },
   {
    "duration": 28,
    "start_time": "2024-07-23T22:03:23.892Z"
   },
   {
    "duration": 24,
    "start_time": "2024-07-23T22:03:37.669Z"
   },
   {
    "duration": 148,
    "start_time": "2024-07-23T22:03:46.621Z"
   },
   {
    "duration": 408,
    "start_time": "2024-07-23T22:06:36.946Z"
   },
   {
    "duration": 133,
    "start_time": "2024-07-23T22:08:48.305Z"
   },
   {
    "duration": 41,
    "start_time": "2024-07-23T22:11:02.113Z"
   },
   {
    "duration": 5,
    "start_time": "2024-07-23T22:11:58.702Z"
   },
   {
    "duration": 22,
    "start_time": "2024-07-23T22:12:25.749Z"
   },
   {
    "duration": 6,
    "start_time": "2024-07-23T22:13:10.120Z"
   },
   {
    "duration": 23,
    "start_time": "2024-07-23T22:13:29.040Z"
   },
   {
    "duration": 24,
    "start_time": "2024-07-23T22:13:38.160Z"
   },
   {
    "duration": 22,
    "start_time": "2024-07-23T22:13:49.227Z"
   },
   {
    "duration": 149,
    "start_time": "2024-07-23T22:16:00.534Z"
   },
   {
    "duration": 204,
    "start_time": "2024-07-23T22:16:32.960Z"
   },
   {
    "duration": 82,
    "start_time": "2024-07-23T22:16:44.825Z"
   },
   {
    "duration": 457,
    "start_time": "2024-07-23T22:17:45.208Z"
   },
   {
    "duration": 792,
    "start_time": "2024-07-23T22:17:45.668Z"
   },
   {
    "duration": 33,
    "start_time": "2024-07-23T22:17:46.462Z"
   },
   {
    "duration": 182,
    "start_time": "2024-07-23T22:17:46.501Z"
   },
   {
    "duration": 163,
    "start_time": "2024-07-23T22:17:46.686Z"
   },
   {
    "duration": 157,
    "start_time": "2024-07-23T22:17:46.852Z"
   },
   {
    "duration": 251,
    "start_time": "2024-07-23T22:17:47.014Z"
   },
   {
    "duration": 47,
    "start_time": "2024-07-23T22:17:47.268Z"
   },
   {
    "duration": 137,
    "start_time": "2024-07-23T22:17:53.629Z"
   },
   {
    "duration": 150,
    "start_time": "2024-07-23T22:18:06.620Z"
   },
   {
    "duration": 140,
    "start_time": "2024-07-23T22:18:11.351Z"
   },
   {
    "duration": 6,
    "start_time": "2024-07-23T22:18:35.827Z"
   },
   {
    "duration": 7,
    "start_time": "2024-07-23T22:20:22.126Z"
   },
   {
    "duration": 466,
    "start_time": "2024-07-23T22:21:21.726Z"
   },
   {
    "duration": 735,
    "start_time": "2024-07-23T22:21:22.196Z"
   },
   {
    "duration": 26,
    "start_time": "2024-07-23T22:21:22.935Z"
   },
   {
    "duration": 166,
    "start_time": "2024-07-23T22:21:22.964Z"
   },
   {
    "duration": 124,
    "start_time": "2024-07-23T22:21:23.136Z"
   },
   {
    "duration": 172,
    "start_time": "2024-07-23T22:21:23.263Z"
   },
   {
    "duration": 233,
    "start_time": "2024-07-23T22:21:23.438Z"
   },
   {
    "duration": 36,
    "start_time": "2024-07-23T22:21:23.674Z"
   },
   {
    "duration": 27,
    "start_time": "2024-07-23T22:21:23.712Z"
   },
   {
    "duration": 7,
    "start_time": "2024-07-23T22:21:23.742Z"
   },
   {
    "duration": 15,
    "start_time": "2024-07-23T22:22:29.295Z"
   },
   {
    "duration": 47,
    "start_time": "2024-07-23T22:25:55.059Z"
   },
   {
    "duration": 72,
    "start_time": "2024-07-23T22:26:44.119Z"
   },
   {
    "duration": 753,
    "start_time": "2024-07-23T22:27:55.265Z"
   },
   {
    "duration": 181,
    "start_time": "2024-07-23T22:28:52.557Z"
   },
   {
    "duration": 3,
    "start_time": "2024-07-23T22:31:13.303Z"
   },
   {
    "duration": 1038,
    "start_time": "2024-07-23T22:33:09.884Z"
   },
   {
    "duration": 128,
    "start_time": "2024-07-23T22:39:56.558Z"
   },
   {
    "duration": 893,
    "start_time": "2024-07-23T22:40:25.168Z"
   },
   {
    "duration": 26,
    "start_time": "2024-07-23T22:46:07.863Z"
   },
   {
    "duration": 109,
    "start_time": "2024-07-23T22:46:26.112Z"
   },
   {
    "duration": 35,
    "start_time": "2024-07-23T22:46:30.885Z"
   },
   {
    "duration": 6,
    "start_time": "2024-07-23T22:46:35.789Z"
   },
   {
    "duration": 1860,
    "start_time": "2024-07-23T22:46:37.024Z"
   },
   {
    "duration": 4,
    "start_time": "2024-07-23T22:47:14.534Z"
   },
   {
    "duration": 1281,
    "start_time": "2024-07-23T22:48:53.970Z"
   },
   {
    "duration": 739,
    "start_time": "2024-07-23T22:48:55.256Z"
   },
   {
    "duration": 42,
    "start_time": "2024-07-23T22:48:55.999Z"
   },
   {
    "duration": 158,
    "start_time": "2024-07-23T22:48:56.044Z"
   },
   {
    "duration": 125,
    "start_time": "2024-07-23T22:48:56.207Z"
   },
   {
    "duration": 149,
    "start_time": "2024-07-23T22:48:56.335Z"
   },
   {
    "duration": 221,
    "start_time": "2024-07-23T22:48:56.487Z"
   },
   {
    "duration": 43,
    "start_time": "2024-07-23T22:48:56.715Z"
   },
   {
    "duration": 6,
    "start_time": "2024-07-23T22:48:56.761Z"
   },
   {
    "duration": 7,
    "start_time": "2024-07-23T22:48:56.771Z"
   },
   {
    "duration": 56,
    "start_time": "2024-07-23T22:48:56.782Z"
   },
   {
    "duration": 197,
    "start_time": "2024-07-23T22:48:56.842Z"
   },
   {
    "duration": 894,
    "start_time": "2024-07-23T22:48:57.042Z"
   },
   {
    "duration": 5,
    "start_time": "2024-07-23T22:48:57.942Z"
   },
   {
    "duration": 1926,
    "start_time": "2024-07-23T22:48:57.950Z"
   },
   {
    "duration": 122833,
    "start_time": "2024-07-23T22:48:59.879Z"
   },
   {
    "duration": 1468,
    "start_time": "2024-07-23T22:52:09.360Z"
   },
   {
    "duration": 715,
    "start_time": "2024-07-23T22:52:10.834Z"
   },
   {
    "duration": 26,
    "start_time": "2024-07-23T22:52:11.551Z"
   },
   {
    "duration": 163,
    "start_time": "2024-07-23T22:52:11.581Z"
   },
   {
    "duration": 122,
    "start_time": "2024-07-23T22:52:11.747Z"
   },
   {
    "duration": 141,
    "start_time": "2024-07-23T22:52:11.872Z"
   },
   {
    "duration": 225,
    "start_time": "2024-07-23T22:52:12.016Z"
   },
   {
    "duration": 40,
    "start_time": "2024-07-23T22:52:12.244Z"
   },
   {
    "duration": 6,
    "start_time": "2024-07-23T22:52:12.288Z"
   },
   {
    "duration": 36,
    "start_time": "2024-07-23T22:52:12.300Z"
   },
   {
    "duration": 15,
    "start_time": "2024-07-23T22:52:12.340Z"
   },
   {
    "duration": 215,
    "start_time": "2024-07-23T22:52:12.359Z"
   },
   {
    "duration": 902,
    "start_time": "2024-07-23T22:52:12.577Z"
   },
   {
    "duration": 7,
    "start_time": "2024-07-23T22:52:13.483Z"
   },
   {
    "duration": 1915,
    "start_time": "2024-07-23T22:52:13.493Z"
   },
   {
    "duration": 123611,
    "start_time": "2024-07-23T22:52:15.410Z"
   },
   {
    "duration": 1422,
    "start_time": "2024-07-23T23:30:11.589Z"
   },
   {
    "duration": 737,
    "start_time": "2024-07-23T23:30:13.014Z"
   },
   {
    "duration": 25,
    "start_time": "2024-07-23T23:30:13.753Z"
   },
   {
    "duration": 162,
    "start_time": "2024-07-23T23:30:13.782Z"
   },
   {
    "duration": 126,
    "start_time": "2024-07-23T23:30:13.946Z"
   },
   {
    "duration": 148,
    "start_time": "2024-07-23T23:30:14.076Z"
   },
   {
    "duration": 215,
    "start_time": "2024-07-23T23:30:14.227Z"
   },
   {
    "duration": 39,
    "start_time": "2024-07-23T23:30:14.445Z"
   },
   {
    "duration": 7,
    "start_time": "2024-07-23T23:30:14.487Z"
   },
   {
    "duration": 8,
    "start_time": "2024-07-23T23:30:14.533Z"
   },
   {
    "duration": 16,
    "start_time": "2024-07-23T23:30:14.545Z"
   },
   {
    "duration": 224,
    "start_time": "2024-07-23T23:30:14.564Z"
   },
   {
    "duration": 886,
    "start_time": "2024-07-23T23:30:14.790Z"
   },
   {
    "duration": 6,
    "start_time": "2024-07-23T23:30:15.679Z"
   },
   {
    "duration": 1975,
    "start_time": "2024-07-23T23:30:15.690Z"
   },
   {
    "duration": 123635,
    "start_time": "2024-07-23T23:30:17.668Z"
   },
   {
    "duration": 318,
    "start_time": "2024-07-26T19:23:01.241Z"
   },
   {
    "duration": 1524,
    "start_time": "2024-07-26T19:23:11.825Z"
   },
   {
    "duration": 895,
    "start_time": "2024-07-26T19:23:13.353Z"
   },
   {
    "duration": 27,
    "start_time": "2024-07-26T19:23:14.251Z"
   },
   {
    "duration": 142,
    "start_time": "2024-07-26T19:23:15.353Z"
   },
   {
    "duration": 109,
    "start_time": "2024-07-26T19:23:17.755Z"
   },
   {
    "duration": 135,
    "start_time": "2024-07-26T19:23:21.029Z"
   },
   {
    "duration": 158,
    "start_time": "2024-07-26T19:23:22.789Z"
   },
   {
    "duration": 16,
    "start_time": "2024-07-26T19:23:48.811Z"
   },
   {
    "duration": 6,
    "start_time": "2024-07-26T19:24:11.254Z"
   },
   {
    "duration": 8,
    "start_time": "2024-07-26T19:24:12.554Z"
   },
   {
    "duration": 14,
    "start_time": "2024-07-26T19:24:18.526Z"
   },
   {
    "duration": 88,
    "start_time": "2024-07-26T19:25:06.835Z"
   },
   {
    "duration": 6,
    "start_time": "2024-07-26T19:25:47.364Z"
   },
   {
    "duration": 132,
    "start_time": "2024-07-26T19:25:56.050Z"
   },
   {
    "duration": 115,
    "start_time": "2024-07-26T19:26:22.757Z"
   },
   {
    "duration": 9,
    "start_time": "2024-07-26T19:29:46.443Z"
   },
   {
    "duration": 250,
    "start_time": "2024-07-26T19:29:47.576Z"
   },
   {
    "duration": 25,
    "start_time": "2024-07-26T19:32:33.110Z"
   },
   {
    "duration": 29,
    "start_time": "2024-07-26T19:32:37.097Z"
   },
   {
    "duration": 9,
    "start_time": "2024-07-26T19:32:46.503Z"
   },
   {
    "duration": 2904,
    "start_time": "2024-07-26T19:33:01.632Z"
   },
   {
    "duration": 1675,
    "start_time": "2024-07-26T19:33:04.540Z"
   },
   {
    "duration": 85,
    "start_time": "2024-07-26T19:33:06.219Z"
   },
   {
    "duration": 268,
    "start_time": "2024-07-26T19:33:23.462Z"
   },
   {
    "duration": 294,
    "start_time": "2024-07-26T19:33:24.630Z"
   },
   {
    "duration": 303,
    "start_time": "2024-07-26T19:33:28.208Z"
   },
   {
    "duration": 322,
    "start_time": "2024-07-26T19:33:33.282Z"
   },
   {
    "duration": 31,
    "start_time": "2024-07-26T19:33:38.081Z"
   },
   {
    "duration": 7,
    "start_time": "2024-07-26T19:33:42.113Z"
   },
   {
    "duration": 8,
    "start_time": "2024-07-26T19:33:46.858Z"
   },
   {
    "duration": 29,
    "start_time": "2024-07-26T19:33:47.578Z"
   },
   {
    "duration": 211,
    "start_time": "2024-07-26T19:33:54.602Z"
   },
   {
    "duration": 176,
    "start_time": "2024-07-26T19:38:51.166Z"
   },
   {
    "duration": 6,
    "start_time": "2024-07-26T19:38:57.369Z"
   },
   {
    "duration": 584,
    "start_time": "2024-07-26T19:38:59.747Z"
   },
   {
    "duration": 6,
    "start_time": "2024-07-26T19:40:02.058Z"
   },
   {
    "duration": 207,
    "start_time": "2024-07-26T19:40:47.509Z"
   },
   {
    "duration": 3030,
    "start_time": "2024-07-26T19:45:16.509Z"
   },
   {
    "duration": 1619,
    "start_time": "2024-07-26T19:45:19.607Z"
   },
   {
    "duration": 91,
    "start_time": "2024-07-26T19:45:21.234Z"
   },
   {
    "duration": 376,
    "start_time": "2024-07-26T19:45:21.329Z"
   },
   {
    "duration": 230,
    "start_time": "2024-07-26T19:45:21.708Z"
   },
   {
    "duration": 302,
    "start_time": "2024-07-26T19:45:21.941Z"
   },
   {
    "duration": 306,
    "start_time": "2024-07-26T19:45:22.301Z"
   },
   {
    "duration": 17,
    "start_time": "2024-07-26T19:45:22.610Z"
   },
   {
    "duration": 8,
    "start_time": "2024-07-26T19:45:22.631Z"
   },
   {
    "duration": 10,
    "start_time": "2024-07-26T19:45:22.701Z"
   },
   {
    "duration": 17,
    "start_time": "2024-07-26T19:45:22.714Z"
   },
   {
    "duration": 291,
    "start_time": "2024-07-26T19:45:22.735Z"
   },
   {
    "duration": 1074,
    "start_time": "2024-07-26T19:45:23.029Z"
   },
   {
    "duration": 10,
    "start_time": "2024-07-26T19:45:24.107Z"
   },
   {
    "duration": 0,
    "start_time": "2024-07-26T19:45:24.122Z"
   },
   {
    "duration": 0,
    "start_time": "2024-07-26T19:45:24.124Z"
   },
   {
    "duration": 0,
    "start_time": "2024-07-26T19:45:24.127Z"
   },
   {
    "duration": 0,
    "start_time": "2024-07-26T19:45:24.130Z"
   },
   {
    "duration": 0,
    "start_time": "2024-07-26T19:45:24.132Z"
   },
   {
    "duration": 0,
    "start_time": "2024-07-26T19:45:24.134Z"
   },
   {
    "duration": 0,
    "start_time": "2024-07-26T19:45:24.136Z"
   },
   {
    "duration": 0,
    "start_time": "2024-07-26T19:45:24.202Z"
   },
   {
    "duration": 19,
    "start_time": "2024-07-26T19:46:25.287Z"
   },
   {
    "duration": 7,
    "start_time": "2024-07-26T19:46:31.868Z"
   },
   {
    "duration": 616,
    "start_time": "2024-07-26T19:46:34.309Z"
   },
   {
    "duration": 3628,
    "start_time": "2024-07-26T19:48:41.186Z"
   },
   {
    "duration": 0,
    "start_time": "2024-07-26T19:48:44.819Z"
   },
   {
    "duration": 3003,
    "start_time": "2024-07-26T19:48:54.627Z"
   },
   {
    "duration": 1692,
    "start_time": "2024-07-26T19:48:57.635Z"
   },
   {
    "duration": 84,
    "start_time": "2024-07-26T19:48:59.331Z"
   },
   {
    "duration": 257,
    "start_time": "2024-07-26T19:49:05.483Z"
   },
   {
    "duration": 252,
    "start_time": "2024-07-26T19:49:08.366Z"
   },
   {
    "duration": 231,
    "start_time": "2024-07-26T19:49:11.913Z"
   },
   {
    "duration": 457,
    "start_time": "2024-07-26T19:49:16.058Z"
   },
   {
    "duration": 21,
    "start_time": "2024-07-26T19:49:18.822Z"
   },
   {
    "duration": 3884,
    "start_time": "2024-07-26T19:49:27.541Z"
   },
   {
    "duration": 6,
    "start_time": "2024-07-26T19:49:49.247Z"
   },
   {
    "duration": 11,
    "start_time": "2024-07-26T19:49:57.932Z"
   },
   {
    "duration": 24,
    "start_time": "2024-07-26T19:50:16.430Z"
   },
   {
    "duration": 1145,
    "start_time": "2024-07-26T19:50:21.360Z"
   },
   {
    "duration": 150,
    "start_time": "2024-07-26T19:51:25.376Z"
   },
   {
    "duration": 84,
    "start_time": "2024-07-26T19:51:41.219Z"
   },
   {
    "duration": 1689,
    "start_time": "2024-07-26T19:52:17.813Z"
   },
   {
    "duration": 14,
    "start_time": "2024-07-26T19:52:30.290Z"
   },
   {
    "duration": 706,
    "start_time": "2024-07-26T19:52:47.303Z"
   },
   {
    "duration": 26,
    "start_time": "2024-07-26T19:54:49.893Z"
   },
   {
    "duration": 2997,
    "start_time": "2024-07-26T19:54:59.542Z"
   },
   {
    "duration": 1781,
    "start_time": "2024-07-26T19:55:02.543Z"
   },
   {
    "duration": 85,
    "start_time": "2024-07-26T19:55:04.327Z"
   },
   {
    "duration": 394,
    "start_time": "2024-07-26T19:55:04.416Z"
   },
   {
    "duration": 287,
    "start_time": "2024-07-26T19:55:04.816Z"
   },
   {
    "duration": 316,
    "start_time": "2024-07-26T19:55:05.107Z"
   },
   {
    "duration": 515,
    "start_time": "2024-07-26T19:55:05.428Z"
   },
   {
    "duration": 58,
    "start_time": "2024-07-26T19:55:05.947Z"
   },
   {
    "duration": 13,
    "start_time": "2024-07-26T19:55:06.011Z"
   },
   {
    "duration": 81,
    "start_time": "2024-07-26T19:55:06.027Z"
   },
   {
    "duration": 1109,
    "start_time": "2024-07-26T19:55:06.114Z"
   },
   {
    "duration": 2716,
    "start_time": "2024-07-26T19:55:07.227Z"
   },
   {
    "duration": 0,
    "start_time": "2024-07-26T19:55:09.948Z"
   },
   {
    "duration": 0,
    "start_time": "2024-07-26T19:55:10.003Z"
   },
   {
    "duration": 0,
    "start_time": "2024-07-26T19:55:10.006Z"
   },
   {
    "duration": 0,
    "start_time": "2024-07-26T19:55:10.009Z"
   },
   {
    "duration": 0,
    "start_time": "2024-07-26T19:55:10.012Z"
   },
   {
    "duration": 0,
    "start_time": "2024-07-26T19:55:10.014Z"
   },
   {
    "duration": 0,
    "start_time": "2024-07-26T19:55:10.017Z"
   },
   {
    "duration": 0,
    "start_time": "2024-07-26T19:55:10.019Z"
   },
   {
    "duration": 0,
    "start_time": "2024-07-26T19:55:10.021Z"
   },
   {
    "duration": 0,
    "start_time": "2024-07-26T19:55:10.024Z"
   },
   {
    "duration": 0,
    "start_time": "2024-07-26T19:55:10.026Z"
   },
   {
    "duration": 3132,
    "start_time": "2024-07-26T19:59:45.703Z"
   },
   {
    "duration": 1663,
    "start_time": "2024-07-26T19:59:48.839Z"
   },
   {
    "duration": 30,
    "start_time": "2024-07-26T19:59:50.505Z"
   },
   {
    "duration": 370,
    "start_time": "2024-07-26T19:59:50.538Z"
   },
   {
    "duration": 289,
    "start_time": "2024-07-26T19:59:50.914Z"
   },
   {
    "duration": 309,
    "start_time": "2024-07-26T19:59:51.207Z"
   },
   {
    "duration": 504,
    "start_time": "2024-07-26T19:59:51.520Z"
   },
   {
    "duration": 8,
    "start_time": "2024-07-26T19:59:52.028Z"
   },
   {
    "duration": 23,
    "start_time": "2024-07-26T19:59:52.102Z"
   },
   {
    "duration": 2518,
    "start_time": "2024-07-26T19:59:52.128Z"
   },
   {
    "duration": 0,
    "start_time": "2024-07-26T19:59:54.702Z"
   },
   {
    "duration": 0,
    "start_time": "2024-07-26T19:59:54.705Z"
   },
   {
    "duration": 0,
    "start_time": "2024-07-26T19:59:54.706Z"
   },
   {
    "duration": 0,
    "start_time": "2024-07-26T19:59:54.708Z"
   },
   {
    "duration": 0,
    "start_time": "2024-07-26T19:59:54.709Z"
   },
   {
    "duration": 0,
    "start_time": "2024-07-26T19:59:54.713Z"
   },
   {
    "duration": 0,
    "start_time": "2024-07-26T19:59:54.714Z"
   },
   {
    "duration": 0,
    "start_time": "2024-07-26T19:59:54.716Z"
   },
   {
    "duration": 0,
    "start_time": "2024-07-26T19:59:54.718Z"
   },
   {
    "duration": 0,
    "start_time": "2024-07-26T19:59:54.720Z"
   },
   {
    "duration": 0,
    "start_time": "2024-07-26T19:59:54.722Z"
   },
   {
    "duration": 0,
    "start_time": "2024-07-26T19:59:54.724Z"
   },
   {
    "duration": 2979,
    "start_time": "2024-07-26T20:01:19.459Z"
   },
   {
    "duration": 1600,
    "start_time": "2024-07-26T20:01:22.442Z"
   },
   {
    "duration": 75,
    "start_time": "2024-07-26T20:01:24.045Z"
   },
   {
    "duration": 309,
    "start_time": "2024-07-26T20:01:24.124Z"
   },
   {
    "duration": 282,
    "start_time": "2024-07-26T20:01:24.439Z"
   },
   {
    "duration": 296,
    "start_time": "2024-07-26T20:01:24.725Z"
   },
   {
    "duration": 577,
    "start_time": "2024-07-26T20:01:25.025Z"
   },
   {
    "duration": 10,
    "start_time": "2024-07-26T20:01:25.605Z"
   },
   {
    "duration": 84,
    "start_time": "2024-07-26T20:01:25.618Z"
   },
   {
    "duration": 1205,
    "start_time": "2024-07-26T20:01:25.706Z"
   },
   {
    "duration": 118022,
    "start_time": "2024-07-26T20:01:26.919Z"
   },
   {
    "duration": 64,
    "start_time": "2024-07-26T20:03:24.946Z"
   },
   {
    "duration": 1631,
    "start_time": "2024-07-26T20:03:25.013Z"
   },
   {
    "duration": 12,
    "start_time": "2024-07-26T20:03:26.701Z"
   },
   {
    "duration": 3022,
    "start_time": "2024-07-26T20:09:33.401Z"
   },
   {
    "duration": 1704,
    "start_time": "2024-07-26T20:09:36.428Z"
   },
   {
    "duration": 89,
    "start_time": "2024-07-26T20:09:38.135Z"
   },
   {
    "duration": 302,
    "start_time": "2024-07-26T20:09:38.229Z"
   },
   {
    "duration": 282,
    "start_time": "2024-07-26T20:09:38.534Z"
   },
   {
    "duration": 293,
    "start_time": "2024-07-26T20:09:38.820Z"
   },
   {
    "duration": 500,
    "start_time": "2024-07-26T20:09:39.116Z"
   },
   {
    "duration": 7,
    "start_time": "2024-07-26T20:09:39.620Z"
   },
   {
    "duration": 86,
    "start_time": "2024-07-26T20:09:39.630Z"
   },
   {
    "duration": 1107,
    "start_time": "2024-07-26T20:09:39.723Z"
   },
   {
    "duration": 116878,
    "start_time": "2024-07-26T20:09:40.834Z"
   },
   {
    "duration": 11,
    "start_time": "2024-07-26T20:11:37.715Z"
   },
   {
    "duration": 1572,
    "start_time": "2024-07-26T20:11:37.730Z"
   },
   {
    "duration": 7,
    "start_time": "2024-07-26T20:11:39.306Z"
   },
   {
    "duration": 3032,
    "start_time": "2024-07-26T20:13:06.602Z"
   },
   {
    "duration": 1869,
    "start_time": "2024-07-26T20:13:09.639Z"
   },
   {
    "duration": 96,
    "start_time": "2024-07-26T20:13:11.511Z"
   },
   {
    "duration": 499,
    "start_time": "2024-07-26T20:13:11.613Z"
   },
   {
    "duration": 308,
    "start_time": "2024-07-26T20:13:12.116Z"
   },
   {
    "duration": 379,
    "start_time": "2024-07-26T20:13:12.427Z"
   },
   {
    "duration": 433,
    "start_time": "2024-07-26T20:13:12.810Z"
   },
   {
    "duration": 60,
    "start_time": "2024-07-26T20:13:13.247Z"
   },
   {
    "duration": 18,
    "start_time": "2024-07-26T20:13:13.311Z"
   },
   {
    "duration": 1178,
    "start_time": "2024-07-26T20:13:13.336Z"
   },
   {
    "duration": 12,
    "start_time": "2024-07-26T20:13:14.517Z"
   },
   {
    "duration": 1601,
    "start_time": "2024-07-26T20:13:14.532Z"
   },
   {
    "duration": 7,
    "start_time": "2024-07-26T20:13:16.137Z"
   },
   {
    "duration": 743,
    "start_time": "2024-07-26T20:13:47.658Z"
   },
   {
    "duration": 2966,
    "start_time": "2024-07-26T20:14:10.572Z"
   },
   {
    "duration": 1682,
    "start_time": "2024-07-26T20:14:13.542Z"
   },
   {
    "duration": 84,
    "start_time": "2024-07-26T20:14:15.228Z"
   },
   {
    "duration": 309,
    "start_time": "2024-07-26T20:14:15.317Z"
   },
   {
    "duration": 283,
    "start_time": "2024-07-26T20:14:15.630Z"
   },
   {
    "duration": 314,
    "start_time": "2024-07-26T20:14:15.917Z"
   },
   {
    "duration": 405,
    "start_time": "2024-07-26T20:14:16.234Z"
   },
   {
    "duration": 69,
    "start_time": "2024-07-26T20:14:16.643Z"
   },
   {
    "duration": 18,
    "start_time": "2024-07-26T20:14:16.717Z"
   },
   {
    "duration": 1013,
    "start_time": "2024-07-26T20:14:16.804Z"
   },
   {
    "duration": 11,
    "start_time": "2024-07-26T20:14:17.820Z"
   },
   {
    "duration": 1593,
    "start_time": "2024-07-26T20:14:17.835Z"
   },
   {
    "duration": 7,
    "start_time": "2024-07-26T20:14:19.431Z"
   },
   {
    "duration": 3116,
    "start_time": "2024-07-26T20:22:34.505Z"
   },
   {
    "duration": 1700,
    "start_time": "2024-07-26T20:22:37.625Z"
   },
   {
    "duration": 82,
    "start_time": "2024-07-26T20:22:39.328Z"
   },
   {
    "duration": 310,
    "start_time": "2024-07-26T20:22:39.413Z"
   },
   {
    "duration": 279,
    "start_time": "2024-07-26T20:22:39.731Z"
   },
   {
    "duration": 298,
    "start_time": "2024-07-26T20:22:40.014Z"
   },
   {
    "duration": 321,
    "start_time": "2024-07-26T20:22:40.315Z"
   },
   {
    "duration": 62,
    "start_time": "2024-07-26T20:22:40.640Z"
   },
   {
    "duration": 18,
    "start_time": "2024-07-26T20:22:40.706Z"
   },
   {
    "duration": 1007,
    "start_time": "2024-07-26T20:22:40.728Z"
   },
   {
    "duration": 63,
    "start_time": "2024-07-26T20:22:41.738Z"
   },
   {
    "duration": 1518,
    "start_time": "2024-07-26T20:22:41.804Z"
   },
   {
    "duration": 7,
    "start_time": "2024-07-26T20:22:43.327Z"
   },
   {
    "duration": 1748,
    "start_time": "2024-07-26T23:51:45.592Z"
   },
   {
    "duration": 796,
    "start_time": "2024-07-26T23:51:47.345Z"
   },
   {
    "duration": 29,
    "start_time": "2024-07-26T23:51:48.144Z"
   },
   {
    "duration": 169,
    "start_time": "2024-07-26T23:51:48.176Z"
   },
   {
    "duration": 128,
    "start_time": "2024-07-26T23:51:48.351Z"
   },
   {
    "duration": 143,
    "start_time": "2024-07-26T23:51:48.482Z"
   },
   {
    "duration": 175,
    "start_time": "2024-07-26T23:51:48.628Z"
   },
   {
    "duration": 6,
    "start_time": "2024-07-26T23:51:48.806Z"
   },
   {
    "duration": 15,
    "start_time": "2024-07-26T23:51:48.815Z"
   },
   {
    "duration": 501,
    "start_time": "2024-07-26T23:51:48.833Z"
   },
   {
    "duration": 12,
    "start_time": "2024-07-26T23:51:49.336Z"
   },
   {
    "duration": 764,
    "start_time": "2024-07-26T23:51:49.351Z"
   },
   {
    "duration": 7,
    "start_time": "2024-07-26T23:51:50.118Z"
   },
   {
    "duration": 1547,
    "start_time": "2024-07-26T23:52:06.215Z"
   },
   {
    "duration": 816,
    "start_time": "2024-07-26T23:52:07.765Z"
   },
   {
    "duration": 33,
    "start_time": "2024-07-26T23:52:08.584Z"
   },
   {
    "duration": 143,
    "start_time": "2024-07-26T23:52:12.089Z"
   },
   {
    "duration": 107,
    "start_time": "2024-07-26T23:52:17.015Z"
   },
   {
    "duration": 135,
    "start_time": "2024-07-26T23:52:23.336Z"
   },
   {
    "duration": 164,
    "start_time": "2024-07-26T23:52:24.216Z"
   },
   {
    "duration": 5,
    "start_time": "2024-07-26T23:52:25.002Z"
   },
   {
    "duration": 16,
    "start_time": "2024-07-26T23:52:25.971Z"
   },
   {
    "duration": 494,
    "start_time": "2024-07-26T23:52:26.667Z"
   },
   {
    "duration": 9,
    "start_time": "2024-07-26T23:52:32.359Z"
   },
   {
    "duration": 735,
    "start_time": "2024-07-26T23:52:38.697Z"
   },
   {
    "duration": 5,
    "start_time": "2024-07-26T23:52:40.053Z"
   },
   {
    "duration": 2019,
    "start_time": "2024-07-26T23:52:45.004Z"
   },
   {
    "duration": 32,
    "start_time": "2024-07-26T23:53:42.582Z"
   },
   {
    "duration": 1502,
    "start_time": "2024-07-26T23:54:18.813Z"
   },
   {
    "duration": 763,
    "start_time": "2024-07-26T23:54:20.321Z"
   },
   {
    "duration": 31,
    "start_time": "2024-07-26T23:54:21.087Z"
   },
   {
    "duration": 168,
    "start_time": "2024-07-26T23:54:21.122Z"
   },
   {
    "duration": 133,
    "start_time": "2024-07-26T23:54:21.293Z"
   },
   {
    "duration": 145,
    "start_time": "2024-07-26T23:54:21.429Z"
   },
   {
    "duration": 182,
    "start_time": "2024-07-26T23:54:21.577Z"
   },
   {
    "duration": 8,
    "start_time": "2024-07-26T23:54:21.762Z"
   },
   {
    "duration": 31,
    "start_time": "2024-07-26T23:54:21.773Z"
   },
   {
    "duration": 525,
    "start_time": "2024-07-26T23:54:21.810Z"
   },
   {
    "duration": 10,
    "start_time": "2024-07-26T23:54:22.338Z"
   },
   {
    "duration": 761,
    "start_time": "2024-07-26T23:54:22.352Z"
   },
   {
    "duration": 6,
    "start_time": "2024-07-26T23:54:23.116Z"
   },
   {
    "duration": 28,
    "start_time": "2024-07-26T23:54:23.126Z"
   },
   {
    "duration": 16964,
    "start_time": "2024-07-26T23:54:23.157Z"
   },
   {
    "duration": 0,
    "start_time": "2024-07-26T23:54:40.124Z"
   },
   {
    "duration": 0,
    "start_time": "2024-07-26T23:54:40.126Z"
   },
   {
    "duration": 0,
    "start_time": "2024-07-26T23:54:40.129Z"
   },
   {
    "duration": 0,
    "start_time": "2024-07-26T23:54:40.131Z"
   },
   {
    "duration": 0,
    "start_time": "2024-07-26T23:54:40.135Z"
   },
   {
    "duration": 0,
    "start_time": "2024-07-26T23:54:40.138Z"
   },
   {
    "duration": 0,
    "start_time": "2024-07-26T23:54:40.142Z"
   },
   {
    "duration": 1531,
    "start_time": "2024-07-26T23:57:11.279Z"
   },
   {
    "duration": 798,
    "start_time": "2024-07-26T23:57:12.815Z"
   },
   {
    "duration": 26,
    "start_time": "2024-07-26T23:57:13.616Z"
   },
   {
    "duration": 188,
    "start_time": "2024-07-26T23:57:13.647Z"
   },
   {
    "duration": 135,
    "start_time": "2024-07-26T23:57:13.839Z"
   },
   {
    "duration": 145,
    "start_time": "2024-07-26T23:57:13.977Z"
   },
   {
    "duration": 186,
    "start_time": "2024-07-26T23:57:14.126Z"
   },
   {
    "duration": 6,
    "start_time": "2024-07-26T23:57:14.315Z"
   },
   {
    "duration": 16,
    "start_time": "2024-07-26T23:57:14.325Z"
   },
   {
    "duration": 531,
    "start_time": "2024-07-26T23:57:14.348Z"
   },
   {
    "duration": 11,
    "start_time": "2024-07-26T23:57:14.882Z"
   },
   {
    "duration": 731,
    "start_time": "2024-07-26T23:57:14.903Z"
   },
   {
    "duration": 6,
    "start_time": "2024-07-26T23:57:15.636Z"
   },
   {
    "duration": 28,
    "start_time": "2024-07-26T23:57:15.646Z"
   },
   {
    "duration": 16436,
    "start_time": "2024-07-26T23:57:15.701Z"
   },
   {
    "duration": 7520,
    "start_time": "2024-07-26T23:57:32.203Z"
   },
   {
    "duration": 337,
    "start_time": "2024-07-27T00:05:10.514Z"
   },
   {
    "duration": 1523,
    "start_time": "2024-07-27T00:05:14.448Z"
   },
   {
    "duration": 964,
    "start_time": "2024-07-27T00:05:17.465Z"
   },
   {
    "duration": 141,
    "start_time": "2024-07-27T00:05:21.850Z"
   },
   {
    "duration": 6,
    "start_time": "2024-07-27T00:05:34.253Z"
   },
   {
    "duration": 25,
    "start_time": "2024-07-27T00:05:36.933Z"
   },
   {
    "duration": 1375,
    "start_time": "2024-07-27T00:05:41.197Z"
   },
   {
    "duration": 26,
    "start_time": "2024-07-27T00:05:44.913Z"
   },
   {
    "duration": 1504,
    "start_time": "2024-07-27T00:06:36.632Z"
   },
   {
    "duration": 788,
    "start_time": "2024-07-27T00:06:38.141Z"
   },
   {
    "duration": 25,
    "start_time": "2024-07-27T00:06:38.932Z"
   },
   {
    "duration": 165,
    "start_time": "2024-07-27T00:06:38.961Z"
   },
   {
    "duration": 127,
    "start_time": "2024-07-27T00:06:39.131Z"
   },
   {
    "duration": 142,
    "start_time": "2024-07-27T00:06:39.261Z"
   },
   {
    "duration": 182,
    "start_time": "2024-07-27T00:06:39.406Z"
   },
   {
    "duration": 8,
    "start_time": "2024-07-27T00:06:39.603Z"
   },
   {
    "duration": 15,
    "start_time": "2024-07-27T00:06:39.614Z"
   },
   {
    "duration": 499,
    "start_time": "2024-07-27T00:06:39.634Z"
   },
   {
    "duration": 10,
    "start_time": "2024-07-27T00:06:40.137Z"
   },
   {
    "duration": 774,
    "start_time": "2024-07-27T00:06:40.151Z"
   },
   {
    "duration": 6,
    "start_time": "2024-07-27T00:06:40.928Z"
   },
   {
    "duration": 32,
    "start_time": "2024-07-27T00:06:40.940Z"
   },
   {
    "duration": 16368,
    "start_time": "2024-07-27T00:06:40.976Z"
   },
   {
    "duration": 7479,
    "start_time": "2024-07-27T00:06:57.347Z"
   },
   {
    "duration": 1607,
    "start_time": "2024-07-27T00:11:19.181Z"
   },
   {
    "duration": 810,
    "start_time": "2024-07-27T00:11:20.792Z"
   },
   {
    "duration": 31,
    "start_time": "2024-07-27T00:11:21.605Z"
   },
   {
    "duration": 189,
    "start_time": "2024-07-27T00:11:21.641Z"
   },
   {
    "duration": 136,
    "start_time": "2024-07-27T00:11:21.834Z"
   },
   {
    "duration": 146,
    "start_time": "2024-07-27T00:11:21.974Z"
   },
   {
    "duration": 221,
    "start_time": "2024-07-27T00:11:22.124Z"
   },
   {
    "duration": 10,
    "start_time": "2024-07-27T00:11:22.349Z"
   },
   {
    "duration": 38,
    "start_time": "2024-07-27T00:11:22.364Z"
   },
   {
    "duration": 548,
    "start_time": "2024-07-27T00:11:22.408Z"
   },
   {
    "duration": 10,
    "start_time": "2024-07-27T00:11:22.959Z"
   },
   {
    "duration": 786,
    "start_time": "2024-07-27T00:11:22.973Z"
   },
   {
    "duration": 6,
    "start_time": "2024-07-27T00:11:23.763Z"
   },
   {
    "duration": 49,
    "start_time": "2024-07-27T00:11:23.774Z"
   },
   {
    "duration": 16915,
    "start_time": "2024-07-27T00:11:23.827Z"
   },
   {
    "duration": 7481,
    "start_time": "2024-07-27T00:11:40.745Z"
   },
   {
    "duration": 5881,
    "start_time": "2024-07-27T00:11:48.229Z"
   },
   {
    "duration": 5,
    "start_time": "2024-07-27T00:11:54.113Z"
   },
   {
    "duration": 0,
    "start_time": "2024-07-27T00:11:54.122Z"
   },
   {
    "duration": 0,
    "start_time": "2024-07-27T00:11:54.124Z"
   },
   {
    "duration": 0,
    "start_time": "2024-07-27T00:11:54.128Z"
   },
   {
    "duration": 37798,
    "start_time": "2024-07-27T00:13:05.223Z"
   },
   {
    "duration": 368171,
    "start_time": "2024-07-27T00:16:50.855Z"
   },
   {
    "duration": 71,
    "start_time": "2024-07-27T00:22:59.030Z"
   },
   {
    "duration": 0,
    "start_time": "2024-07-27T00:22:59.633Z"
   },
   {
    "duration": 28,
    "start_time": "2024-07-27T00:30:48.893Z"
   },
   {
    "duration": 33,
    "start_time": "2024-07-27T00:32:56.918Z"
   },
   {
    "duration": 29,
    "start_time": "2024-07-27T00:33:32.450Z"
   },
   {
    "duration": 406,
    "start_time": "2024-07-27T00:33:58.479Z"
   },
   {
    "duration": 187,
    "start_time": "2024-07-27T00:39:47.771Z"
   },
   {
    "duration": 198,
    "start_time": "2024-07-27T00:40:14.621Z"
   },
   {
    "duration": 203,
    "start_time": "2024-07-27T00:40:25.010Z"
   },
   {
    "duration": 1447,
    "start_time": "2024-07-27T13:21:12.096Z"
   },
   {
    "duration": 814,
    "start_time": "2024-07-27T13:21:13.547Z"
   },
   {
    "duration": 27,
    "start_time": "2024-07-27T13:21:14.364Z"
   },
   {
    "duration": 146,
    "start_time": "2024-07-27T13:21:14.407Z"
   },
   {
    "duration": 128,
    "start_time": "2024-07-27T13:21:14.558Z"
   },
   {
    "duration": 144,
    "start_time": "2024-07-27T13:21:14.689Z"
   },
   {
    "duration": 145,
    "start_time": "2024-07-27T13:21:14.836Z"
   },
   {
    "duration": 6,
    "start_time": "2024-07-27T13:21:14.984Z"
   },
   {
    "duration": 16,
    "start_time": "2024-07-27T13:21:15.005Z"
   },
   {
    "duration": 744,
    "start_time": "2024-07-27T13:21:15.024Z"
   },
   {
    "duration": 9,
    "start_time": "2024-07-27T13:21:15.771Z"
   },
   {
    "duration": 1140,
    "start_time": "2024-07-27T13:21:15.784Z"
   },
   {
    "duration": 8,
    "start_time": "2024-07-27T13:21:16.927Z"
   },
   {
    "duration": 30,
    "start_time": "2024-07-27T13:21:16.941Z"
   },
   {
    "duration": 511,
    "start_time": "2024-07-27T13:21:16.974Z"
   },
   {
    "duration": 0,
    "start_time": "2024-07-27T13:21:17.488Z"
   },
   {
    "duration": 0,
    "start_time": "2024-07-27T13:21:17.489Z"
   },
   {
    "duration": 0,
    "start_time": "2024-07-27T13:21:17.491Z"
   },
   {
    "duration": 0,
    "start_time": "2024-07-27T13:21:17.493Z"
   },
   {
    "duration": 0,
    "start_time": "2024-07-27T13:21:17.507Z"
   },
   {
    "duration": 0,
    "start_time": "2024-07-27T13:21:17.509Z"
   },
   {
    "duration": 0,
    "start_time": "2024-07-27T13:21:17.512Z"
   },
   {
    "duration": 0,
    "start_time": "2024-07-27T13:21:17.514Z"
   },
   {
    "duration": 0,
    "start_time": "2024-07-27T13:21:17.516Z"
   },
   {
    "duration": 1434,
    "start_time": "2024-07-27T13:33:41.298Z"
   },
   {
    "duration": 732,
    "start_time": "2024-07-27T13:33:42.736Z"
   },
   {
    "duration": 35,
    "start_time": "2024-07-27T13:33:43.471Z"
   },
   {
    "duration": 149,
    "start_time": "2024-07-27T13:33:43.511Z"
   },
   {
    "duration": 153,
    "start_time": "2024-07-27T13:33:43.663Z"
   },
   {
    "duration": 142,
    "start_time": "2024-07-27T13:33:43.819Z"
   },
   {
    "duration": 145,
    "start_time": "2024-07-27T13:33:43.963Z"
   },
   {
    "duration": 6,
    "start_time": "2024-07-27T13:33:44.111Z"
   },
   {
    "duration": 14,
    "start_time": "2024-07-27T13:33:44.120Z"
   },
   {
    "duration": 775,
    "start_time": "2024-07-27T13:33:44.140Z"
   },
   {
    "duration": 10,
    "start_time": "2024-07-27T13:33:44.918Z"
   },
   {
    "duration": 1157,
    "start_time": "2024-07-27T13:33:44.931Z"
   },
   {
    "duration": 7,
    "start_time": "2024-07-27T13:33:46.091Z"
   },
   {
    "duration": 497,
    "start_time": "2024-07-27T13:33:46.107Z"
   },
   {
    "duration": 0,
    "start_time": "2024-07-27T13:33:46.607Z"
   },
   {
    "duration": 0,
    "start_time": "2024-07-27T13:33:46.609Z"
   },
   {
    "duration": 0,
    "start_time": "2024-07-27T13:33:46.612Z"
   },
   {
    "duration": 0,
    "start_time": "2024-07-27T13:33:46.615Z"
   },
   {
    "duration": 0,
    "start_time": "2024-07-27T13:33:46.616Z"
   },
   {
    "duration": 0,
    "start_time": "2024-07-27T13:33:46.618Z"
   },
   {
    "duration": 0,
    "start_time": "2024-07-27T13:33:46.620Z"
   },
   {
    "duration": 0,
    "start_time": "2024-07-27T13:33:46.622Z"
   },
   {
    "duration": 0,
    "start_time": "2024-07-27T13:33:46.624Z"
   },
   {
    "duration": 33,
    "start_time": "2024-07-27T13:34:17.027Z"
   },
   {
    "duration": 67,
    "start_time": "2024-07-27T13:34:40.540Z"
   },
   {
    "duration": 43,
    "start_time": "2024-07-27T13:34:51.362Z"
   },
   {
    "duration": 1487,
    "start_time": "2024-07-27T13:35:10.796Z"
   },
   {
    "duration": 776,
    "start_time": "2024-07-27T13:35:12.286Z"
   },
   {
    "duration": 25,
    "start_time": "2024-07-27T13:35:13.064Z"
   },
   {
    "duration": 146,
    "start_time": "2024-07-27T13:35:13.107Z"
   },
   {
    "duration": 122,
    "start_time": "2024-07-27T13:35:13.256Z"
   },
   {
    "duration": 143,
    "start_time": "2024-07-27T13:35:13.381Z"
   },
   {
    "duration": 143,
    "start_time": "2024-07-27T13:35:13.527Z"
   },
   {
    "duration": 5,
    "start_time": "2024-07-27T13:35:13.673Z"
   },
   {
    "duration": 32,
    "start_time": "2024-07-27T13:35:13.681Z"
   },
   {
    "duration": 746,
    "start_time": "2024-07-27T13:35:13.720Z"
   },
   {
    "duration": 10,
    "start_time": "2024-07-27T13:35:14.469Z"
   },
   {
    "duration": 1139,
    "start_time": "2024-07-27T13:35:14.483Z"
   },
   {
    "duration": 7,
    "start_time": "2024-07-27T13:35:15.625Z"
   },
   {
    "duration": 44,
    "start_time": "2024-07-27T13:35:15.638Z"
   },
   {
    "duration": 319,
    "start_time": "2024-07-27T13:38:17.619Z"
   },
   {
    "duration": 1415,
    "start_time": "2024-07-27T13:38:54.088Z"
   },
   {
    "duration": 787,
    "start_time": "2024-07-27T13:38:55.507Z"
   },
   {
    "duration": 29,
    "start_time": "2024-07-27T13:38:56.309Z"
   },
   {
    "duration": 157,
    "start_time": "2024-07-27T13:38:56.342Z"
   },
   {
    "duration": 125,
    "start_time": "2024-07-27T13:38:56.502Z"
   },
   {
    "duration": 143,
    "start_time": "2024-07-27T13:38:56.630Z"
   },
   {
    "duration": 144,
    "start_time": "2024-07-27T13:38:56.776Z"
   },
   {
    "duration": 7,
    "start_time": "2024-07-27T13:38:56.923Z"
   },
   {
    "duration": 16,
    "start_time": "2024-07-27T13:38:56.938Z"
   },
   {
    "duration": 741,
    "start_time": "2024-07-27T13:38:56.957Z"
   },
   {
    "duration": 10,
    "start_time": "2024-07-27T13:38:57.700Z"
   },
   {
    "duration": 1181,
    "start_time": "2024-07-27T13:38:57.713Z"
   },
   {
    "duration": 9,
    "start_time": "2024-07-27T13:38:58.897Z"
   },
   {
    "duration": 45,
    "start_time": "2024-07-27T13:38:58.910Z"
   },
   {
    "duration": 237,
    "start_time": "2024-07-27T13:38:58.957Z"
   },
   {
    "duration": 0,
    "start_time": "2024-07-27T13:38:59.197Z"
   },
   {
    "duration": 0,
    "start_time": "2024-07-27T13:38:59.207Z"
   },
   {
    "duration": 0,
    "start_time": "2024-07-27T13:38:59.209Z"
   },
   {
    "duration": 0,
    "start_time": "2024-07-27T13:38:59.211Z"
   },
   {
    "duration": 0,
    "start_time": "2024-07-27T13:38:59.214Z"
   },
   {
    "duration": 0,
    "start_time": "2024-07-27T13:38:59.216Z"
   },
   {
    "duration": 0,
    "start_time": "2024-07-27T13:38:59.218Z"
   },
   {
    "duration": 0,
    "start_time": "2024-07-27T13:38:59.220Z"
   },
   {
    "duration": 13,
    "start_time": "2024-07-27T13:39:24.085Z"
   },
   {
    "duration": 1385,
    "start_time": "2024-07-27T13:40:23.264Z"
   },
   {
    "duration": 779,
    "start_time": "2024-07-27T13:40:24.654Z"
   },
   {
    "duration": 25,
    "start_time": "2024-07-27T13:40:25.435Z"
   },
   {
    "duration": 159,
    "start_time": "2024-07-27T13:40:25.464Z"
   },
   {
    "duration": 127,
    "start_time": "2024-07-27T13:40:25.627Z"
   },
   {
    "duration": 142,
    "start_time": "2024-07-27T13:40:25.757Z"
   },
   {
    "duration": 138,
    "start_time": "2024-07-27T13:40:25.907Z"
   },
   {
    "duration": 6,
    "start_time": "2024-07-27T13:40:26.047Z"
   },
   {
    "duration": 15,
    "start_time": "2024-07-27T13:40:26.056Z"
   },
   {
    "duration": 724,
    "start_time": "2024-07-27T13:40:26.105Z"
   },
   {
    "duration": 10,
    "start_time": "2024-07-27T13:40:26.832Z"
   },
   {
    "duration": 1160,
    "start_time": "2024-07-27T13:40:26.846Z"
   },
   {
    "duration": 8,
    "start_time": "2024-07-27T13:40:28.012Z"
   },
   {
    "duration": 17,
    "start_time": "2024-07-27T13:41:52.477Z"
   },
   {
    "duration": 1400,
    "start_time": "2024-07-27T13:47:40.653Z"
   },
   {
    "duration": 770,
    "start_time": "2024-07-27T13:47:42.056Z"
   },
   {
    "duration": 25,
    "start_time": "2024-07-27T13:47:42.829Z"
   },
   {
    "duration": 160,
    "start_time": "2024-07-27T13:47:42.858Z"
   },
   {
    "duration": 121,
    "start_time": "2024-07-27T13:47:43.022Z"
   },
   {
    "duration": 137,
    "start_time": "2024-07-27T13:47:43.146Z"
   },
   {
    "duration": 145,
    "start_time": "2024-07-27T13:47:43.287Z"
   },
   {
    "duration": 6,
    "start_time": "2024-07-27T13:47:43.435Z"
   },
   {
    "duration": 16,
    "start_time": "2024-07-27T13:47:43.445Z"
   },
   {
    "duration": 730,
    "start_time": "2024-07-27T13:47:43.466Z"
   },
   {
    "duration": 14,
    "start_time": "2024-07-27T13:47:44.199Z"
   },
   {
    "duration": 1146,
    "start_time": "2024-07-27T13:47:44.216Z"
   },
   {
    "duration": 7,
    "start_time": "2024-07-27T13:47:45.364Z"
   },
   {
    "duration": 513,
    "start_time": "2024-07-27T13:47:45.373Z"
   },
   {
    "duration": 0,
    "start_time": "2024-07-27T13:47:45.888Z"
   },
   {
    "duration": 0,
    "start_time": "2024-07-27T13:47:45.891Z"
   },
   {
    "duration": 1,
    "start_time": "2024-07-27T13:47:45.892Z"
   },
   {
    "duration": 0,
    "start_time": "2024-07-27T13:47:45.895Z"
   },
   {
    "duration": 0,
    "start_time": "2024-07-27T13:47:45.906Z"
   },
   {
    "duration": 0,
    "start_time": "2024-07-27T13:47:45.908Z"
   },
   {
    "duration": 0,
    "start_time": "2024-07-27T13:47:45.909Z"
   },
   {
    "duration": 0,
    "start_time": "2024-07-27T13:47:45.912Z"
   },
   {
    "duration": 1439,
    "start_time": "2024-07-27T13:49:37.928Z"
   },
   {
    "duration": 722,
    "start_time": "2024-07-27T13:49:39.370Z"
   },
   {
    "duration": 27,
    "start_time": "2024-07-27T13:49:40.095Z"
   },
   {
    "duration": 158,
    "start_time": "2024-07-27T13:49:40.125Z"
   },
   {
    "duration": 120,
    "start_time": "2024-07-27T13:49:40.287Z"
   },
   {
    "duration": 149,
    "start_time": "2024-07-27T13:49:40.410Z"
   },
   {
    "duration": 145,
    "start_time": "2024-07-27T13:49:40.563Z"
   },
   {
    "duration": 6,
    "start_time": "2024-07-27T13:49:40.711Z"
   },
   {
    "duration": 16,
    "start_time": "2024-07-27T13:49:40.720Z"
   },
   {
    "duration": 759,
    "start_time": "2024-07-27T13:49:40.740Z"
   },
   {
    "duration": 10,
    "start_time": "2024-07-27T13:49:41.505Z"
   },
   {
    "duration": 1150,
    "start_time": "2024-07-27T13:49:41.518Z"
   },
   {
    "duration": 7,
    "start_time": "2024-07-27T13:49:42.671Z"
   },
   {
    "duration": 22842,
    "start_time": "2024-07-27T13:49:42.686Z"
   },
   {
    "duration": 12105,
    "start_time": "2024-07-27T13:50:05.531Z"
   },
   {
    "duration": 8388,
    "start_time": "2024-07-27T13:50:17.638Z"
   },
   {
    "duration": 526,
    "start_time": "2024-07-27T13:50:26.029Z"
   },
   {
    "duration": 0,
    "start_time": "2024-07-27T13:50:26.558Z"
   },
   {
    "duration": 0,
    "start_time": "2024-07-27T13:50:26.560Z"
   },
   {
    "duration": 0,
    "start_time": "2024-07-27T13:50:26.562Z"
   },
   {
    "duration": 0,
    "start_time": "2024-07-27T13:50:26.564Z"
   },
   {
    "duration": 0,
    "start_time": "2024-07-27T13:50:26.566Z"
   },
   {
    "duration": 1437,
    "start_time": "2024-07-27T13:56:53.281Z"
   },
   {
    "duration": 770,
    "start_time": "2024-07-27T13:56:54.722Z"
   },
   {
    "duration": 25,
    "start_time": "2024-07-27T13:56:55.502Z"
   },
   {
    "duration": 157,
    "start_time": "2024-07-27T13:56:55.530Z"
   },
   {
    "duration": 127,
    "start_time": "2024-07-27T13:56:55.693Z"
   },
   {
    "duration": 138,
    "start_time": "2024-07-27T13:56:55.823Z"
   },
   {
    "duration": 143,
    "start_time": "2024-07-27T13:56:55.964Z"
   },
   {
    "duration": 6,
    "start_time": "2024-07-27T13:56:56.110Z"
   },
   {
    "duration": 17,
    "start_time": "2024-07-27T13:56:56.122Z"
   },
   {
    "duration": 740,
    "start_time": "2024-07-27T13:56:56.141Z"
   },
   {
    "duration": 12,
    "start_time": "2024-07-27T13:56:56.884Z"
   },
   {
    "duration": 1152,
    "start_time": "2024-07-27T13:56:56.898Z"
   },
   {
    "duration": 6,
    "start_time": "2024-07-27T13:56:58.052Z"
   },
   {
    "duration": 1424,
    "start_time": "2024-07-27T14:02:49.998Z"
   },
   {
    "duration": 790,
    "start_time": "2024-07-27T14:02:51.426Z"
   },
   {
    "duration": 25,
    "start_time": "2024-07-27T14:02:52.218Z"
   },
   {
    "duration": 169,
    "start_time": "2024-07-27T14:02:52.247Z"
   },
   {
    "duration": 121,
    "start_time": "2024-07-27T14:02:52.419Z"
   },
   {
    "duration": 145,
    "start_time": "2024-07-27T14:02:52.543Z"
   },
   {
    "duration": 144,
    "start_time": "2024-07-27T14:02:52.691Z"
   },
   {
    "duration": 7,
    "start_time": "2024-07-27T14:02:52.838Z"
   },
   {
    "duration": 16,
    "start_time": "2024-07-27T14:02:52.848Z"
   },
   {
    "duration": 745,
    "start_time": "2024-07-27T14:02:52.870Z"
   },
   {
    "duration": 10,
    "start_time": "2024-07-27T14:02:53.618Z"
   },
   {
    "duration": 1146,
    "start_time": "2024-07-27T14:02:53.631Z"
   },
   {
    "duration": 6,
    "start_time": "2024-07-27T14:02:54.780Z"
   },
   {
    "duration": 1460,
    "start_time": "2024-07-27T16:06:24.439Z"
   },
   {
    "duration": 792,
    "start_time": "2024-07-27T16:06:25.902Z"
   },
   {
    "duration": 28,
    "start_time": "2024-07-27T16:06:26.696Z"
   },
   {
    "duration": 151,
    "start_time": "2024-07-27T16:06:27.817Z"
   },
   {
    "duration": 141,
    "start_time": "2024-07-27T16:06:28.510Z"
   },
   {
    "duration": 136,
    "start_time": "2024-07-27T16:06:30.657Z"
   },
   {
    "duration": 130,
    "start_time": "2024-07-27T16:06:31.452Z"
   },
   {
    "duration": 6,
    "start_time": "2024-07-27T16:06:33.627Z"
   },
   {
    "duration": 16,
    "start_time": "2024-07-27T16:06:34.318Z"
   },
   {
    "duration": 730,
    "start_time": "2024-07-27T16:06:35.014Z"
   },
   {
    "duration": 9,
    "start_time": "2024-07-27T16:06:36.209Z"
   },
   {
    "duration": 1123,
    "start_time": "2024-07-27T16:06:40.515Z"
   },
   {
    "duration": 6,
    "start_time": "2024-07-27T16:06:42.152Z"
   },
   {
    "duration": 1456,
    "start_time": "2024-07-27T16:24:54.539Z"
   },
   {
    "duration": 795,
    "start_time": "2024-07-27T16:24:55.998Z"
   },
   {
    "duration": 29,
    "start_time": "2024-07-27T16:24:56.796Z"
   },
   {
    "duration": 163,
    "start_time": "2024-07-27T16:24:56.830Z"
   },
   {
    "duration": 116,
    "start_time": "2024-07-27T16:24:57.005Z"
   },
   {
    "duration": 138,
    "start_time": "2024-07-27T16:24:57.124Z"
   },
   {
    "duration": 160,
    "start_time": "2024-07-27T16:24:57.265Z"
   },
   {
    "duration": 6,
    "start_time": "2024-07-27T16:24:57.428Z"
   },
   {
    "duration": 15,
    "start_time": "2024-07-27T16:24:57.438Z"
   },
   {
    "duration": 742,
    "start_time": "2024-07-27T16:24:57.459Z"
   },
   {
    "duration": 11,
    "start_time": "2024-07-27T16:24:58.209Z"
   },
   {
    "duration": 1173,
    "start_time": "2024-07-27T16:24:58.222Z"
   },
   {
    "duration": 10,
    "start_time": "2024-07-27T16:24:59.399Z"
   },
   {
    "duration": 6,
    "start_time": "2024-07-27T16:24:59.412Z"
   },
   {
    "duration": 1439,
    "start_time": "2024-07-27T16:29:59.666Z"
   },
   {
    "duration": 788,
    "start_time": "2024-07-27T16:30:10.345Z"
   },
   {
    "duration": 33,
    "start_time": "2024-07-27T16:30:21.830Z"
   },
   {
    "duration": 18,
    "start_time": "2024-07-27T16:31:38.668Z"
   },
   {
    "duration": 149,
    "start_time": "2024-07-27T16:31:39.386Z"
   },
   {
    "duration": 113,
    "start_time": "2024-07-27T16:31:39.905Z"
   },
   {
    "duration": 151,
    "start_time": "2024-07-27T16:31:43.259Z"
   },
   {
    "duration": 130,
    "start_time": "2024-07-27T16:31:45.033Z"
   },
   {
    "duration": 5,
    "start_time": "2024-07-27T16:31:48.301Z"
   },
   {
    "duration": 15,
    "start_time": "2024-07-27T16:31:48.815Z"
   },
   {
    "duration": 706,
    "start_time": "2024-07-27T16:31:49.265Z"
   },
   {
    "duration": 9,
    "start_time": "2024-07-27T16:31:50.413Z"
   },
   {
    "duration": 1129,
    "start_time": "2024-07-27T16:31:54.106Z"
   },
   {
    "duration": 4,
    "start_time": "2024-07-27T16:31:56.555Z"
   },
   {
    "duration": 5,
    "start_time": "2024-07-27T16:31:57.186Z"
   },
   {
    "duration": 4,
    "start_time": "2024-07-27T16:31:58.470Z"
   },
   {
    "duration": 1401,
    "start_time": "2024-07-27T16:34:49.462Z"
   },
   {
    "duration": 715,
    "start_time": "2024-07-27T16:34:50.866Z"
   },
   {
    "duration": 29,
    "start_time": "2024-07-27T16:34:51.584Z"
   },
   {
    "duration": 154,
    "start_time": "2024-07-27T16:34:51.617Z"
   },
   {
    "duration": 149,
    "start_time": "2024-07-27T16:34:51.774Z"
   },
   {
    "duration": 143,
    "start_time": "2024-07-27T16:34:51.926Z"
   },
   {
    "duration": 143,
    "start_time": "2024-07-27T16:34:52.071Z"
   },
   {
    "duration": 6,
    "start_time": "2024-07-27T16:34:52.217Z"
   },
   {
    "duration": 15,
    "start_time": "2024-07-27T16:34:52.226Z"
   },
   {
    "duration": 759,
    "start_time": "2024-07-27T16:34:52.247Z"
   },
   {
    "duration": 10,
    "start_time": "2024-07-27T16:34:53.008Z"
   },
   {
    "duration": 1131,
    "start_time": "2024-07-27T16:34:53.022Z"
   },
   {
    "duration": 5,
    "start_time": "2024-07-27T16:34:54.156Z"
   },
   {
    "duration": 508,
    "start_time": "2024-07-27T16:34:54.165Z"
   },
   {
    "duration": 0,
    "start_time": "2024-07-27T16:34:54.676Z"
   },
   {
    "duration": 0,
    "start_time": "2024-07-27T16:34:54.678Z"
   },
   {
    "duration": 0,
    "start_time": "2024-07-27T16:34:54.681Z"
   },
   {
    "duration": 0,
    "start_time": "2024-07-27T16:34:54.683Z"
   },
   {
    "duration": 0,
    "start_time": "2024-07-27T16:34:54.685Z"
   },
   {
    "duration": 0,
    "start_time": "2024-07-27T16:34:54.687Z"
   },
   {
    "duration": 0,
    "start_time": "2024-07-27T16:34:54.707Z"
   },
   {
    "duration": 0,
    "start_time": "2024-07-27T16:34:54.710Z"
   },
   {
    "duration": 1412,
    "start_time": "2024-07-27T19:19:45.067Z"
   },
   {
    "duration": 825,
    "start_time": "2024-07-27T19:19:46.482Z"
   },
   {
    "duration": 25,
    "start_time": "2024-07-27T19:19:47.310Z"
   },
   {
    "duration": 142,
    "start_time": "2024-07-27T19:19:47.455Z"
   },
   {
    "duration": 138,
    "start_time": "2024-07-27T19:19:48.153Z"
   },
   {
    "duration": 134,
    "start_time": "2024-07-27T19:19:49.928Z"
   },
   {
    "duration": 128,
    "start_time": "2024-07-27T19:20:11.281Z"
   },
   {
    "duration": 6,
    "start_time": "2024-07-27T19:20:13.148Z"
   },
   {
    "duration": 15,
    "start_time": "2024-07-27T19:20:13.665Z"
   },
   {
    "duration": 751,
    "start_time": "2024-07-27T19:20:14.203Z"
   },
   {
    "duration": 10,
    "start_time": "2024-07-27T19:20:17.808Z"
   },
   {
    "duration": 1123,
    "start_time": "2024-07-27T19:20:20.330Z"
   },
   {
    "duration": 6,
    "start_time": "2024-07-27T19:20:35.177Z"
   },
   {
    "duration": 1471,
    "start_time": "2024-07-27T19:21:39.387Z"
   },
   {
    "duration": 763,
    "start_time": "2024-07-27T19:21:40.861Z"
   },
   {
    "duration": 24,
    "start_time": "2024-07-27T19:21:41.627Z"
   },
   {
    "duration": 165,
    "start_time": "2024-07-27T19:21:41.654Z"
   },
   {
    "duration": 119,
    "start_time": "2024-07-27T19:21:41.824Z"
   },
   {
    "duration": 142,
    "start_time": "2024-07-27T19:21:41.947Z"
   },
   {
    "duration": 173,
    "start_time": "2024-07-27T19:21:42.091Z"
   },
   {
    "duration": 6,
    "start_time": "2024-07-27T19:21:42.267Z"
   },
   {
    "duration": 32,
    "start_time": "2024-07-27T19:21:42.277Z"
   },
   {
    "duration": 488,
    "start_time": "2024-07-27T19:21:42.312Z"
   },
   {
    "duration": 9,
    "start_time": "2024-07-27T19:21:42.803Z"
   },
   {
    "duration": 735,
    "start_time": "2024-07-27T19:21:42.815Z"
   },
   {
    "duration": 5,
    "start_time": "2024-07-27T19:21:43.553Z"
   },
   {
    "duration": 15781,
    "start_time": "2024-07-27T19:21:43.564Z"
   },
   {
    "duration": 7090,
    "start_time": "2024-07-27T19:21:59.406Z"
   },
   {
    "duration": 5816,
    "start_time": "2024-07-27T19:22:06.498Z"
   },
   {
    "duration": 40896,
    "start_time": "2024-07-27T19:22:12.317Z"
   },
   {
    "duration": 355924,
    "start_time": "2024-07-27T19:22:53.217Z"
   },
   {
    "duration": 66,
    "start_time": "2024-07-27T19:28:49.143Z"
   },
   {
    "duration": 4064,
    "start_time": "2024-07-27T19:28:49.213Z"
   },
   {
    "duration": 210,
    "start_time": "2024-07-27T19:28:53.280Z"
   },
   {
    "duration": 217,
    "start_time": "2024-07-27T19:28:53.493Z"
   },
   {
    "duration": 6,
    "start_time": "2024-07-27T20:33:11.316Z"
   },
   {
    "duration": 10,
    "start_time": "2024-07-27T20:33:43.672Z"
   },
   {
    "duration": 6,
    "start_time": "2024-07-27T20:34:04.157Z"
   },
   {
    "duration": 7,
    "start_time": "2024-07-27T20:35:01.052Z"
   },
   {
    "duration": 7,
    "start_time": "2024-07-27T20:36:17.394Z"
   },
   {
    "duration": 527,
    "start_time": "2024-07-27T20:36:24.799Z"
   },
   {
    "duration": 6,
    "start_time": "2024-07-27T20:36:30.961Z"
   },
   {
    "duration": 6,
    "start_time": "2024-07-27T20:36:42.487Z"
   },
   {
    "duration": 7,
    "start_time": "2024-07-27T20:37:04.491Z"
   },
   {
    "duration": 176,
    "start_time": "2024-07-27T20:37:21.318Z"
   },
   {
    "duration": 191,
    "start_time": "2024-07-27T20:38:06.835Z"
   },
   {
    "duration": 184,
    "start_time": "2024-07-27T20:39:25.302Z"
   },
   {
    "duration": 182,
    "start_time": "2024-07-27T20:40:21.870Z"
   },
   {
    "duration": 196,
    "start_time": "2024-07-27T20:40:30.098Z"
   },
   {
    "duration": 191,
    "start_time": "2024-07-27T20:40:44.432Z"
   },
   {
    "duration": 221,
    "start_time": "2024-07-27T20:41:55.261Z"
   },
   {
    "duration": 208,
    "start_time": "2024-07-27T20:41:59.916Z"
   },
   {
    "duration": 197,
    "start_time": "2024-07-27T20:42:09.797Z"
   },
   {
    "duration": 194,
    "start_time": "2024-07-27T20:42:23.352Z"
   },
   {
    "duration": 196,
    "start_time": "2024-07-27T20:42:34.453Z"
   }
  ],
  "kernelspec": {
   "display_name": "Python 3 (ipykernel)",
   "language": "python",
   "name": "python3"
  },
  "language_info": {
   "codemirror_mode": {
    "name": "ipython",
    "version": 3
   },
   "file_extension": ".py",
   "mimetype": "text/x-python",
   "name": "python",
   "nbconvert_exporter": "python",
   "pygments_lexer": "ipython3",
   "version": "3.11.7"
  },
  "toc": {
   "base_numbering": 1,
   "nav_menu": {},
   "number_sections": true,
   "sideBar": true,
   "skip_h1_title": true,
   "title_cell": "Table of Contents",
   "title_sidebar": "Contents",
   "toc_cell": false,
   "toc_position": {},
   "toc_section_display": true,
   "toc_window_display": false
  }
 },
 "nbformat": 4,
 "nbformat_minor": 4
}
